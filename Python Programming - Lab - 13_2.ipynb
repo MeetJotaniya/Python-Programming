{
 "cells": [
  {
   "cell_type": "markdown",
   "metadata": {},
   "source": [
    "<a href='https://www.darshan.ac.in/'> <img src='https://www.darshan.ac.in/Content/media/DU_Logo.svg' width=\"250\" height=\"300\"/></a>\n",
    "<pre>\n",
    "<center><b><h1>Python Programming - 2301CS404</b></center>\n",
    "<center><b><h1>Lab - 13</b></center>    \n",
    "<pre>"
   ]
  },
  {
   "cell_type": "markdown",
   "metadata": {},
   "source": [
    "## Continued.."
   ]
  },
  {
   "cell_type": "markdown",
   "metadata": {},
   "source": [
    "### 10) Calculate area of a ractangle using object as an argument to a method."
   ]
  },
  {
   "cell_type": "code",
   "execution_count": 3,
   "metadata": {},
   "outputs": [
    {
     "name": "stdout",
     "output_type": "stream",
     "text": [
      "30\n"
     ]
    }
   ],
   "source": [
    "class Area:\n",
    "\n",
    "    def __init__(self, length, width):\n",
    "        self.length = length\n",
    "        self.width = width\n",
    "\n",
    "def cal_area(self):\n",
    "    print(self.length * self.width)\n",
    "\n",
    "r1 = Area(5,6)\n",
    "cal_area(r1)"
   ]
  },
  {
   "cell_type": "markdown",
   "metadata": {},
   "source": [
    "### 11) Calculate the area of a square. \n",
    "### Include a Constructor, a method to calculate area named area() and a method named output() that prints the output and is invoked by area()."
   ]
  },
  {
   "cell_type": "code",
   "execution_count": 9,
   "metadata": {},
   "outputs": [
    {
     "name": "stdout",
     "output_type": "stream",
     "text": [
      "Output is : 25\n"
     ]
    }
   ],
   "source": [
    "class Square:\n",
    "    def __init__(self,l):\n",
    "        self.l = l\n",
    "\n",
    "    def area(self):\n",
    "        self.output(self.l ** 2)\n",
    "\n",
    "    def output(self,ans):\n",
    "        print(f\"Output is : {ans}\")\n",
    "\n",
    "sq = Square(5)\n",
    "sq.area()"
   ]
  },
  {
   "cell_type": "markdown",
   "metadata": {},
   "source": [
    "### 12) Calculate the area of a rectangle. \n",
    "### Include a Constructor, a method to calculate area named area() and a method named output() that prints the output and is invoked by area().\n",
    "### Also define a class method that compares the two sides of reactangle. An object is instantiated only if the two sides are different; otherwise a message should be displayed : THIS IS SQUARE."
   ]
  },
  {
   "cell_type": "code",
   "execution_count": 12,
   "metadata": {},
   "outputs": [
    {
     "name": "stdout",
     "output_type": "stream",
     "text": [
      "THIS IS SQUARE\n"
     ]
    }
   ],
   "source": [
    "class Rectangle:\n",
    "    def __init__(self,length,width):\n",
    "            self.length = length\n",
    "            self.width = width\n",
    "      \n",
    "    @classmethod\n",
    "    def compare(cls,length,width):\n",
    "        return length != width\n",
    "\n",
    "    def area(self):\n",
    "        Rectangle.output(self.length * self.width)\n",
    "\n",
    "    def output(res):\n",
    "        print(res)\n",
    "\n",
    "if Rectangle.compare(10,10):\n",
    "    r1 = Rectangle(10,20)\n",
    "    r1.area()\n",
    "else:\n",
    "    print('THIS IS SQUARE')"
   ]
  },
  {
   "cell_type": "markdown",
   "metadata": {},
   "source": [
    "### 13) Define a class Square having a private attribute \"side\". \n",
    "### Implement get_side and set_side methods to accees the private attribute from outside of the class."
   ]
  },
  {
   "cell_type": "code",
   "execution_count": 15,
   "metadata": {},
   "outputs": [
    {
     "name": "stdout",
     "output_type": "stream",
     "text": [
      "Side is : 5\n"
     ]
    }
   ],
   "source": [
    "class Square:\n",
    "    def __init__(self,side):\n",
    "        self.__side = side\n",
    "\n",
    "    def set_side(self, side):\n",
    "        self.__side = side\n",
    "\n",
    "    def get_side(self):\n",
    "        return self.__side\n",
    "\n",
    "sq = Square(5)\n",
    "sq.set_side(5)\n",
    "ans = sq.get_side()\n",
    "\n",
    "print(f\"Side is : {ans}\")"
   ]
  },
  {
   "cell_type": "markdown",
   "metadata": {},
   "source": [
    "### 14) Create a class Profit that has a method named getProfit that accepts profit from the user.\n",
    "### Create a class Loss that has a method named getLoss that accepts loss from the user.\n",
    "### Create a class BalanceSheet that inherits from both classes Profit and Loss and calculates the balanace. It has two methods getBalance() and printBalance()."
   ]
  },
  {
   "cell_type": "code",
   "execution_count": 17,
   "metadata": {},
   "outputs": [
    {
     "name": "stdout",
     "output_type": "stream",
     "text": [
      "2950\n"
     ]
    }
   ],
   "source": [
    "class Profit:\n",
    "    def getProfit(self, profit):\n",
    "        self.profit = profit\n",
    "\n",
    "class Loss:\n",
    "    def getLoss(self, loss):\n",
    "        self.loss = loss\n",
    "\n",
    "class BalanceSheet(Profit, Loss):\n",
    "\n",
    "    def getBalance(self,balance):\n",
    "        self.__balance = balance + self.profit - self.loss\n",
    "\n",
    "    def printBalance(self):\n",
    "        print(self.__balance)\n",
    "\n",
    "b1 = BalanceSheet()\n",
    "b1.getProfit(1000)\n",
    "b1.getLoss(50)\n",
    "b1.getBalance(2000)\n",
    "b1.printBalance()"
   ]
  },
  {
   "attachments": {},
   "cell_type": "markdown",
   "metadata": {},
   "source": [
    "### 15) WAP to demonstrate all types of inheritance."
   ]
  },
  {
   "cell_type": "code",
   "execution_count": 19,
   "metadata": {},
   "outputs": [
    {
     "name": "stdout",
     "output_type": "stream",
     "text": [
      "This is a parent class.\n",
      "This is a child class.\n",
      "This is Parent1 class.\n",
      "This is Parent2 class.\n",
      "This is Child class inheriting from two parents.\n",
      "This is a grandparent class.\n",
      "This is a parent class.\n",
      "This is a child class.\n",
      "This is the base class.\n",
      "This is Child1 class.\n",
      "This is the base class.\n",
      "This is Child2 class.\n",
      "This is class A.\n",
      "This is class B.\n",
      "This is class C.\n",
      "This is class D inheriting from B and C.\n"
     ]
    }
   ],
   "source": [
    "# Single Inheritance\n",
    "class Parent:\n",
    "    def func1(self):\n",
    "        print(\"This is a parent class.\")\n",
    "\n",
    "class Child(Parent):\n",
    "    def func2(self):\n",
    "        print(\"This is a child class.\")\n",
    "\n",
    "obj1 = Child()\n",
    "obj1.func1()\n",
    "obj1.func2()\n",
    "\n",
    "# Multiple Inheritance\n",
    "class Parent1:\n",
    "    def funcA(self):\n",
    "        print(\"This is Parent1 class.\")\n",
    "\n",
    "class Parent2:\n",
    "    def funcB(self):\n",
    "        print(\"This is Parent2 class.\")\n",
    "\n",
    "class ChildMultiple(Parent1, Parent2):\n",
    "    def funcC(self):\n",
    "        print(\"This is Child class inheriting from two parents.\")\n",
    "\n",
    "obj2 = ChildMultiple()\n",
    "obj2.funcA()\n",
    "obj2.funcB()\n",
    "obj2.funcC()\n",
    "\n",
    "# Multilevel Inheritance\n",
    "class Grandparent:\n",
    "    def grandFunc(self):\n",
    "        print(\"This is a grandparent class.\")\n",
    "\n",
    "class ParentMulti(Grandparent):\n",
    "    def parentFunc(self):\n",
    "        print(\"This is a parent class.\")\n",
    "\n",
    "class ChildMulti(ParentMulti):\n",
    "    def childFunc(self):\n",
    "        print(\"This is a child class.\")\n",
    "\n",
    "obj3 = ChildMulti()\n",
    "obj3.grandFunc()\n",
    "obj3.parentFunc()\n",
    "obj3.childFunc()\n",
    "\n",
    "# Hierarchical Inheritance\n",
    "class Base:\n",
    "    def baseFunc(self):\n",
    "        print(\"This is the base class.\")\n",
    "\n",
    "class Child1(Base):\n",
    "    def child1Func(self):\n",
    "        print(\"This is Child1 class.\")\n",
    "\n",
    "class Child2(Base):\n",
    "    def child2Func(self):\n",
    "        print(\"This is Child2 class.\")\n",
    "\n",
    "obj4 = Child1()\n",
    "obj5 = Child2()\n",
    "obj4.baseFunc()\n",
    "obj4.child1Func()\n",
    "obj5.baseFunc()\n",
    "obj5.child2Func()\n",
    "\n",
    "# Hybrid Inheritance\n",
    "class A:\n",
    "    def funcA(self):\n",
    "        print(\"This is class A.\")\n",
    "\n",
    "class B(A):\n",
    "    def funcB(self):\n",
    "        print(\"This is class B.\")\n",
    "\n",
    "class C(A):\n",
    "    def funcC(self):\n",
    "        print(\"This is class C.\")\n",
    "\n",
    "class D(B, C):\n",
    "    def funcD(self):\n",
    "        print(\"This is class D inheriting from B and C.\")\n",
    "\n",
    "obj6 = D()\n",
    "obj6.funcA()\n",
    "obj6.funcB()\n",
    "obj6.funcC()\n",
    "obj6.funcD()\n"
   ]
  },
  {
   "cell_type": "markdown",
   "metadata": {},
   "source": [
    "### 16) Create a Person class with a constructor that takes two arguments name and age. \n",
    "### Create a child class Employee that inherits from Person and adds a new attribute salary. \n",
    "### Override the __init__ method in Employee to call the parent class's __init__ method using the super() and then initialize the salary attribute."
   ]
  },
  {
   "cell_type": "code",
   "execution_count": 20,
   "metadata": {},
   "outputs": [
    {
     "name": "stdout",
     "output_type": "stream",
     "text": [
      "Name: Yash, Age: 20\n",
      "Salary: 500000\n"
     ]
    }
   ],
   "source": [
    "class Person:\n",
    "    def __init__(self, name, age):\n",
    "        self.name = name\n",
    "        self.age = age\n",
    "\n",
    "    def display(self):\n",
    "        print(f\"Name: {self.name}, Age: {self.age}\")\n",
    "\n",
    "class Employee(Person):\n",
    "    def __init__(self, name, age, salary):\n",
    "        super().__init__(name, age)  \n",
    "        self.salary = salary\n",
    "\n",
    "    def display(self):\n",
    "        super().display()  \n",
    "        print(f\"Salary: {self.salary}\")\n",
    "\n",
    "emp = Employee(\"Yash\", 20, 500000)\n",
    "emp.display()\n"
   ]
  },
  {
   "cell_type": "markdown",
   "metadata": {},
   "source": [
    "### 17) Create a Shape class with a draw method that is not implemented. \n",
    "### Create three child classes Rectangle, Circle, and Triangle that implement the draw method with their respective drawing behaviors. \n",
    "### Create a list of Shape objects that includes one instance of each child class, and then iterate through the list and call the draw method on each object."
   ]
  },
  {
   "cell_type": "code",
   "execution_count": 22,
   "metadata": {},
   "outputs": [
    {
     "name": "stdout",
     "output_type": "stream",
     "text": [
      "Drawing a Rectangle\n",
      "Drawing a Circle\n",
      "Drawing a Triangle\n"
     ]
    }
   ],
   "source": [
    "from abc import ABC, abstractmethod\n",
    "\n",
    "class Shape(ABC):\n",
    "    @abstractmethod\n",
    "    def draw(self):\n",
    "        pass  \n",
    "\n",
    "class Rectangle(Shape):\n",
    "    def draw(self):\n",
    "        print(\"Drawing a Rectangle\")\n",
    "\n",
    "class Circle(Shape):\n",
    "    def draw(self):\n",
    "        print(\"Drawing a Circle\")\n",
    "\n",
    "class Triangle(Shape):\n",
    "    def draw(self):\n",
    "        print(\"Drawing a Triangle\")\n",
    "\n",
    "shapes = [Rectangle(), Circle(), Triangle()]\n",
    "\n",
    "for shape in shapes:\n",
    "    shape.draw()\n"
   ]
  },
  {
   "cell_type": "code",
   "execution_count": null,
   "metadata": {},
   "outputs": [],
   "source": []
  }
 ],
 "metadata": {
  "kernelspec": {
   "display_name": "Python 3 (ipykernel)",
   "language": "python",
   "name": "python3"
  },
  "language_info": {
   "codemirror_mode": {
    "name": "ipython",
    "version": 3
   },
   "file_extension": ".py",
   "mimetype": "text/x-python",
   "name": "python",
   "nbconvert_exporter": "python",
   "pygments_lexer": "ipython3",
   "version": "3.12.7"
  }
 },
 "nbformat": 4,
 "nbformat_minor": 4
}
