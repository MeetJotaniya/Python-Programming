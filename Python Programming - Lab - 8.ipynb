{
 "cells": [
  {
   "cell_type": "markdown",
   "metadata": {},
   "source": [
    "<a href='https://www.darshan.ac.in/'> <img src='https://www.darshan.ac.in/Content/media/DU_Logo.svg' width=\"250\" height=\"300\"/></a>\n",
    "<pre>\n",
    "<center><b><h1>Python Programming - 2301CS404</b></center>\n",
    "<center><b><h1>Lab - 8</b></center>    \n",
    "<pre>"
   ]
  },
  {
   "cell_type": "markdown",
   "metadata": {},
   "source": [
    "# User Defined Function"
   ]
  },
  {
   "cell_type": "markdown",
   "metadata": {},
   "source": [
    "### 01) Write a function to calculate BMI given mass and height. (BMI = mass/h**2)"
   ]
  },
  {
   "cell_type": "code",
   "execution_count": 1,
   "metadata": {},
   "outputs": [
    {
     "data": {
      "text/plain": [
       "30.67932797662527"
      ]
     },
     "execution_count": 1,
     "metadata": {},
     "output_type": "execute_result"
    }
   ],
   "source": [
    "def calculate_BMI(mass,height):\n",
    "    return mass/height**2\n",
    "\n",
    "calculate_BMI(105,1.85)"
   ]
  },
  {
   "cell_type": "markdown",
   "metadata": {},
   "source": [
    "### 02) Write a function that add first n numbers."
   ]
  },
  {
   "cell_type": "code",
   "execution_count": 4,
   "metadata": {},
   "outputs": [
    {
     "data": {
      "text/plain": [
       "15"
      ]
     },
     "execution_count": 4,
     "metadata": {},
     "output_type": "execute_result"
    }
   ],
   "source": [
    "n = int(input(\"Enter n:\"))\n",
    "\n",
    "def add_first_n_numbers(n):\n",
    "    sum = 0\n",
    "    for i in range(1,n+1):\n",
    "        sum+=i\n",
    "    return sum\n",
    "\n",
    "add_first_n_numbers(n)    "
   ]
  },
  {
   "cell_type": "code",
   "execution_count": 36,
   "metadata": {},
   "outputs": [
    {
     "data": {
      "text/plain": [
       "55"
      ]
     },
     "execution_count": 36,
     "metadata": {},
     "output_type": "execute_result"
    }
   ],
   "source": [
    "n = 10\n",
    "def add_first_n_numbers(n):\n",
    "    return sum(range(1, n + 1))\n",
    "\n",
    "add_first_n_numbers(n)"
   ]
  },
  {
   "cell_type": "markdown",
   "metadata": {},
   "source": [
    "### 03) Write a function that returns 1 if the given number is Prime or 0 otherwise."
   ]
  },
  {
   "cell_type": "code",
   "execution_count": 37,
   "metadata": {},
   "outputs": [
    {
     "data": {
      "text/plain": [
       "0"
      ]
     },
     "execution_count": 37,
     "metadata": {},
     "output_type": "execute_result"
    }
   ],
   "source": [
    "num = int(input(\"Enter a Number:\"))\n",
    "\n",
    "def isPrime(num):\n",
    "    if num<=1:\n",
    "        return 0\n",
    "    for i in range(2,int(num**0.5)+1):\n",
    "        if num%i==0:\n",
    "            return 0\n",
    "    return 1    \n",
    "        \n",
    "isPrime(num)        "
   ]
  },
  {
   "cell_type": "markdown",
   "metadata": {},
   "source": [
    "### 04) Write a function that returns the list of Prime numbers between given two numbers."
   ]
  },
  {
   "cell_type": "code",
   "execution_count": 13,
   "metadata": {},
   "outputs": [
    {
     "data": {
      "text/plain": [
       "[401, 409]"
      ]
     },
     "execution_count": 13,
     "metadata": {},
     "output_type": "execute_result"
    }
   ],
   "source": [
    "startNum = int(input(\"Enter start range:\"))\n",
    "endNum = int(input(\"Enter end range:\"))\n",
    "\n",
    "def primeRange(startNum,endNum):\n",
    "    primeNumbers = []\n",
    "    for num in range(startNum,endNum+1):\n",
    "        if(num>1):\n",
    "            for i in range(2,(num//2)+1):\n",
    "                if(num%i==0):\n",
    "                    break\n",
    "            else:\n",
    "                primeNumbers.append(num)   \n",
    "    return primeNumbers\n",
    "\n",
    "primeRange(startNum,endNum)             "
   ]
  },
  {
   "cell_type": "markdown",
   "metadata": {},
   "source": [
    "### 05) Write a function that returns True if the given string is Palindrome or False otherwise."
   ]
  },
  {
   "cell_type": "code",
   "execution_count": 15,
   "metadata": {},
   "outputs": [
    {
     "data": {
      "text/plain": [
       "False"
      ]
     },
     "execution_count": 15,
     "metadata": {},
     "output_type": "execute_result"
    }
   ],
   "source": [
    "string = input(\"Enter a String:\")\n",
    "\n",
    "def isPalindrome(string):\n",
    "    return string == string[::-1]\n",
    "\n",
    "isPalindrome(string)"
   ]
  },
  {
   "cell_type": "markdown",
   "metadata": {},
   "source": [
    "### 06) Write a function that returns the sum of all the elements of the list."
   ]
  },
  {
   "cell_type": "code",
   "execution_count": 16,
   "metadata": {},
   "outputs": [
    {
     "data": {
      "text/plain": [
       "23"
      ]
     },
     "execution_count": 16,
     "metadata": {},
     "output_type": "execute_result"
    }
   ],
   "source": [
    "l1 = [2,4,1,5,8,3]\n",
    "\n",
    "def sum_of_list(l1):\n",
    "    sum = 0\n",
    "    for i in l1:\n",
    "        sum+=i\n",
    "    return sum\n",
    "\n",
    "sum_of_list(l1)    "
   ]
  },
  {
   "cell_type": "code",
   "execution_count": 71,
   "metadata": {},
   "outputs": [
    {
     "data": {
      "text/plain": [
       "23"
      ]
     },
     "execution_count": 71,
     "metadata": {},
     "output_type": "execute_result"
    }
   ],
   "source": [
    "l1 = [2,4,1,5,8,3]\n",
    "\n",
    "def sum_of_list(l1):\n",
    "    return sum(l1)\n",
    "\n",
    "sum_of_list(l1)"
   ]
  },
  {
   "cell_type": "markdown",
   "metadata": {},
   "source": [
    "### 07) Write a function to calculate the sum of the first element of each tuples inside the list."
   ]
  },
  {
   "cell_type": "code",
   "execution_count": 17,
   "metadata": {},
   "outputs": [
    {
     "data": {
      "text/plain": [
       "12"
      ]
     },
     "execution_count": 17,
     "metadata": {},
     "output_type": "execute_result"
    }
   ],
   "source": [
    "list_of_tuples = [(1,2),(4,5,3),(7,4,1,6)]\n",
    "\n",
    "def sum_of_firstElement_of_tuple(list_of_tuples):\n",
    "    sum = 0\n",
    "    for i in list_of_tuples:\n",
    "        sum += i[0]\n",
    "    return sum\n",
    "\n",
    "sum_of_firstElement_of_tuple(list_of_tuples)"
   ]
  },
  {
   "cell_type": "code",
   "execution_count": 39,
   "metadata": {},
   "outputs": [
    {
     "data": {
      "text/plain": [
       "12"
      ]
     },
     "execution_count": 39,
     "metadata": {},
     "output_type": "execute_result"
    }
   ],
   "source": [
    "list_of_tuples = [(1,2),(4,5,3),(7,4,1,6)]\n",
    "\n",
    "def sum_of_first_elements(tuples):\n",
    "    return sum(t[0] for t in tuples)\n",
    "\n",
    "sum_of_first_elements(list_of_tuples)"
   ]
  },
  {
   "cell_type": "markdown",
   "metadata": {},
   "source": [
    "### 08) Write a recursive function to find nth term of Fibonacci Series."
   ]
  },
  {
   "cell_type": "code",
   "execution_count": 18,
   "metadata": {},
   "outputs": [
    {
     "data": {
      "text/plain": [
       "3"
      ]
     },
     "execution_count": 18,
     "metadata": {},
     "output_type": "execute_result"
    }
   ],
   "source": [
    "n = int(input(\"Enter n:\"))\n",
    "\n",
    "def fibbo(n):\n",
    "    if n==0 or n==1:\n",
    "        return n\n",
    "    \n",
    "    return fibbo(n-1)+fibbo(n-2)\n",
    "\n",
    "fibbo(n)"
   ]
  },
  {
   "cell_type": "markdown",
   "metadata": {},
   "source": [
    "### 09) Write a function to get the name of the student based on the given rollno.\n",
    "#### Example: Given dict1 = {101:'Ajay', 102:'Rahul', 103:'Jay', 104:'Pooja'} find name of student whose rollno = 103"
   ]
  },
  {
   "cell_type": "code",
   "execution_count": 25,
   "metadata": {},
   "outputs": [
    {
     "data": {
      "text/plain": [
       "'Rahul'"
      ]
     },
     "execution_count": 25,
     "metadata": {},
     "output_type": "execute_result"
    }
   ],
   "source": [
    "dict1 = {101:'Ajay',102:'Rahul',103:'Jay',104:'Pooja'}\n",
    "\n",
    "\n",
    "rollNo = int(input(\"Enter rollNo to Search student's name:\"))\n",
    "\n",
    "def find_name_of_student(dict1,rollNo):\n",
    "    if rollNo not in dict1.keys():\n",
    "        return f\"RollNo. {rollNo} is not present in given dictionary\"\n",
    "    return dict1[rollNo]\n",
    "\n",
    "find_name_of_student(dict1,rollNo)"
   ]
  },
  {
   "cell_type": "code",
   "execution_count": 34,
   "metadata": {},
   "outputs": [
    {
     "data": {
      "text/plain": [
       "'Pooja'"
      ]
     },
     "execution_count": 34,
     "metadata": {},
     "output_type": "execute_result"
    }
   ],
   "source": [
    "dict1 = {101:'Ajay',102:'Rahul',103:'Jay',104:'Pooja'}\n",
    "\n",
    "\n",
    "rollNo = int(input(\"Enter rollNo to Search student's name:\"))\n",
    "\n",
    "def find_name_by_rollNo(dict1,rollNo):\n",
    "    return dict1.get(rollNo,f\"RollNo. {rollNo} is not present in given dictionary\")\n",
    "\n",
    "find_name_by_rollNo(dict1,rollNo)"
   ]
  },
  {
   "cell_type": "markdown",
   "metadata": {},
   "source": [
    "### 10) Write a function to get the sum of the scores ending with zero.\n",
    "#### Example : scores = [200, 456, 300, 100, 234, 678] \n",
    "#### Ans = 200 + 300 + 100 = 600"
   ]
  },
  {
   "cell_type": "code",
   "execution_count": 41,
   "metadata": {},
   "outputs": [
    {
     "data": {
      "text/plain": [
       "600"
      ]
     },
     "execution_count": 41,
     "metadata": {},
     "output_type": "execute_result"
    }
   ],
   "source": [
    "scores = [200,456,300,100,234,678]\n",
    "\n",
    "def sum_of_scores(scores):\n",
    "    return sum(i for i in scores if i % 10 == 0)\n",
    "\n",
    "sum_of_scores(scores)      \n",
    "            "
   ]
  },
  {
   "cell_type": "markdown",
   "metadata": {},
   "source": [
    "### 11) Write a function to invert a given Dictionary.\n",
    "#### hint: keys to values & values to keys\n",
    "#### Before : {'a': 10, 'b':20, 'c':30, 'd':40}\n",
    "#### After : {10:'a', 20:'b', 30:'c', 40:'d'}"
   ]
  },
  {
   "cell_type": "code",
   "execution_count": 44,
   "metadata": {},
   "outputs": [
    {
     "name": "stdout",
     "output_type": "stream",
     "text": [
      "{'a': 10, 'b': 20, 'c': 30, 'd': 40}\n"
     ]
    },
    {
     "data": {
      "text/plain": [
       "{10: 'a', 20: 'b', 30: 'c', 40: 'd'}"
      ]
     },
     "execution_count": 44,
     "metadata": {},
     "output_type": "execute_result"
    }
   ],
   "source": [
    "d1 = {'a':10,'b':20,'c':30,'d':40}\n",
    "print(d1)\n",
    "def invert_dict(d1):\n",
    "    return {v:k for k,v in d1.items()}\n",
    "\n",
    "d1 = invert_dict(d1)\n",
    "d1"
   ]
  },
  {
   "cell_type": "markdown",
   "metadata": {},
   "source": [
    "### 12) Write a function to check whether the given string is Pangram or not.\n",
    "#### hint: Pangram is a string containing all the characters a-z atlest once.\n",
    "#### \"the quick brown fox jumps over the lazy dog\" is a Pangram string."
   ]
  },
  {
   "cell_type": "code",
   "execution_count": 50,
   "metadata": {},
   "outputs": [
    {
     "data": {
      "text/plain": [
       "True"
      ]
     },
     "execution_count": 50,
     "metadata": {},
     "output_type": "execute_result"
    }
   ],
   "source": [
    "string = \"the quick brown fox jumps over the lazy dog\"\n",
    "\n",
    "def is_panagram(string):\n",
    "    alphabet = set(\"abcdefghijklmnopqrstuvwxyz\")\n",
    "    return alphabet.issubset(set(string.lower()))\n",
    "\n",
    "is_panagram(string)"
   ]
  },
  {
   "cell_type": "markdown",
   "metadata": {},
   "source": [
    "### 13) Write a function that returns the number of uppercase and lowercase letters in the given string. \n",
    "#### example : Input : s1 = AbcDEfgh ,Ouptput : no_upper = 3, no_lower = 5"
   ]
  },
  {
   "cell_type": "code",
   "execution_count": 55,
   "metadata": {},
   "outputs": [
    {
     "data": {
      "text/plain": [
       "(3, 5)"
      ]
     },
     "execution_count": 55,
     "metadata": {},
     "output_type": "execute_result"
    }
   ],
   "source": [
    "s1 = \"AbcDEfgh\"\n",
    "\n",
    "def count_case(s1):\n",
    "    upper,lower = 0,0\n",
    "    for i in s1:\n",
    "        if i.isupper():\n",
    "            upper+=1\n",
    "        elif i.islower():    \n",
    "            lower+=1\n",
    "    return upper,lower\n",
    "\n",
    "upper,lower =count_case(s1)        \n",
    "upper,lower"
   ]
  },
  {
   "cell_type": "markdown",
   "metadata": {},
   "source": [
    "### 14) Write a lambda function to get smallest number from the given two numbers."
   ]
  },
  {
   "cell_type": "code",
   "execution_count": 56,
   "metadata": {},
   "outputs": [
    {
     "data": {
      "text/plain": [
       "10"
      ]
     },
     "execution_count": 56,
     "metadata": {},
     "output_type": "execute_result"
    }
   ],
   "source": [
    "a,b = 10,20\n",
    "\n",
    "smallest = lambda a,b: a if a<b else b\n",
    "\n",
    "smallest(a,b)"
   ]
  },
  {
   "cell_type": "markdown",
   "metadata": {},
   "source": [
    "### 15) For the given list of names of students, extract the names having more that 7 characters. Use filter()."
   ]
  },
  {
   "cell_type": "code",
   "execution_count": 1,
   "metadata": {},
   "outputs": [
    {
     "name": "stdout",
     "output_type": "stream",
     "text": [
      "['rajsingh', 'Alexander', 'Catherine']\n"
     ]
    }
   ],
   "source": [
    "l1 = ['John','abcdefg','rajsingh','lucy','Alexander','Catherine','Bob']\n",
    "\n",
    "def filter_name(l1):\n",
    "    return list(filter(lambda name:len(name)>7,l1))\n",
    "\n",
    "print(filter_name(l1))"
   ]
  },
  {
   "cell_type": "markdown",
   "metadata": {},
   "source": [
    "### 16) For the given list of names of students, convert the first letter of all the names into uppercase. use map()."
   ]
  },
  {
   "cell_type": "code",
   "execution_count": 2,
   "metadata": {},
   "outputs": [
    {
     "data": {
      "text/plain": [
       "['John', 'Abcdefg', 'Rajsingh', 'Lucy', 'Alexander', 'Catherine', 'Bob']"
      ]
     },
     "execution_count": 2,
     "metadata": {},
     "output_type": "execute_result"
    }
   ],
   "source": [
    "l1 = ['john','abcdefg','rajsingh','lucy','alexander','catherine','bob']\n",
    "\n",
    "def first_letter_capital(l1):\n",
    "    return list(map(lambda names: names.capitalize(),l1))\n",
    "\n",
    "first_letter_capital(l1)"
   ]
  },
  {
   "cell_type": "markdown",
   "metadata": {},
   "source": [
    "### 17) Write udfs to call the functions with following types of arguments:\n",
    "1. Positional Arguments\n",
    "2. Keyword Arguments\n",
    "3. Default Arguments\n",
    "4. Variable Legngth Positional(*args) & variable length Keyword Arguments (**kwargs)\n",
    "5. Keyword-Only & Positional Only Arguments"
   ]
  },
  {
   "cell_type": "code",
   "execution_count": 3,
   "metadata": {},
   "outputs": [
    {
     "name": "stdout",
     "output_type": "stream",
     "text": [
      "Positional Argument: 1\n",
      "Keyword Argument: 3\n",
      "Variable Positional Arguments: (4, 5)\n",
      "Variable Keyword Arguments: {'extra1': 'value1', 'extra2': 'value2'}\n"
     ]
    }
   ],
   "source": [
    "def demo_arguments(pos_arg, key_arg=\"default\", *args, **kwargs):\n",
    "    print(f\"Positional Argument: {pos_arg}\")\n",
    "    print(f\"Keyword Argument: {key_arg}\")\n",
    "    print(f\"Variable Positional Arguments: {args}\")\n",
    "    print(f\"Variable Keyword Arguments: {kwargs}\")\n",
    "    \n",
    "demo_arguments(1, 3, 4, 5, extra1=\"value1\", extra2=\"value2\")\n",
    "    "
   ]
  },
  {
   "cell_type": "code",
   "execution_count": 4,
   "metadata": {},
   "outputs": [
    {
     "name": "stdout",
     "output_type": "stream",
     "text": [
      "30\n"
     ]
    }
   ],
   "source": [
    "# 1. Positional Arguments\n",
    "def demo_positional(arg1, arg2):\n",
    "    return arg1 + arg2\n",
    "\n",
    "print(demo_positional(10, 20))"
   ]
  },
  {
   "cell_type": "code",
   "execution_count": 5,
   "metadata": {},
   "outputs": [
    {
     "name": "stdout",
     "output_type": "stream",
     "text": [
      "15\n"
     ]
    }
   ],
   "source": [
    "# 2. Keyword Arguments\n",
    "def demo_keyword(arg1, arg2):\n",
    "    return arg1 * arg2\n",
    "\n",
    "print(demo_keyword(arg2=5, arg1=3))"
   ]
  },
  {
   "cell_type": "code",
   "execution_count": 7,
   "metadata": {},
   "outputs": [
    {
     "name": "stdout",
     "output_type": "stream",
     "text": [
      "10\n"
     ]
    }
   ],
   "source": [
    "# 3. Default Arguments\n",
    "def demo_default(arg1, arg2=10):\n",
    "    return arg1 - arg2\n",
    "\n",
    "print(demo_default(50))"
   ]
  },
  {
   "cell_type": "code",
   "execution_count": 8,
   "metadata": {},
   "outputs": [
    {
     "name": "stdout",
     "output_type": "stream",
     "text": [
      "Args: (1, 2, 3), Kwargs: {'key1': 'value1', 'key2': 'value2'}\n"
     ]
    }
   ],
   "source": [
    "# 4. Variable Length Positional (*args) and Keyword Arguments (**kwargs)\n",
    "def demo_var_args(*args, **kwargs):\n",
    "    return f\"Args: {args}, Kwargs: {kwargs}\"\n",
    "\n",
    "print(demo_var_args(1, 2, 3, key1=\"value1\", key2=\"value2\"))"
   ]
  },
  {
   "cell_type": "code",
   "execution_count": 10,
   "metadata": {},
   "outputs": [
    {
     "name": "stdout",
     "output_type": "stream",
     "text": [
      "Keyword-only: Keyword, Positional-only: Positional\n"
     ]
    }
   ],
   "source": [
    "# 5. Keyword-Only and Positional-Only Arguments\n",
    "def demo_special(positional_only, /, *, keyword_only):\n",
    "    return f\"Keyword-only: {keyword_only}, Positional-only: {positional_only}\"\n",
    "\n",
    "# Example usage\n",
    "print(demo_special(\"Positional\", keyword_only=\"Keyword\"))\n"
   ]
  }
 ],
 "metadata": {
  "kernelspec": {
   "display_name": "Python 3",
   "language": "python",
   "name": "python3"
  },
  "language_info": {
   "codemirror_mode": {
    "name": "ipython",
    "version": 3
   },
   "file_extension": ".py",
   "mimetype": "text/x-python",
   "name": "python",
   "nbconvert_exporter": "python",
   "pygments_lexer": "ipython3",
   "version": "3.13.0"
  }
 },
 "nbformat": 4,
 "nbformat_minor": 4
}
