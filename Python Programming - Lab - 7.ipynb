{
 "cells": [
  {
   "cell_type": "markdown",
   "metadata": {},
   "source": [
    "<a href='https://www.darshan.ac.in/'> <img src='https://www.darshan.ac.in/Content/media/DU_Logo.svg' width=\"250\" height=\"300\"/></a>\n",
    "<pre>\n",
    "<center><b><h1>Python Programming - 2301CS404</b></center>\n",
    "<center><b><h1>Lab - 7</b></center>    \n",
    "<pre>"
   ]
  },
  {
   "cell_type": "markdown",
   "metadata": {},
   "source": [
    "# Set & Dictionary"
   ]
  },
  {
   "cell_type": "markdown",
   "metadata": {},
   "source": [
    "### 01) WAP to iterate over a set."
   ]
  },
  {
   "cell_type": "code",
   "execution_count": 1,
   "metadata": {},
   "outputs": [
    {
     "name": "stdout",
     "output_type": "stream",
     "text": [
      "1 2 3 4 "
     ]
    }
   ],
   "source": [
    "s1 = {1,2,3,4,1,2,3}\n",
    "\n",
    "for i in s1:\n",
    "    print(i,end=\" \")"
   ]
  },
  {
   "cell_type": "markdown",
   "metadata": {},
   "source": [
    "### 02) WAP to convert set into list, string and tuple."
   ]
  },
  {
   "cell_type": "code",
   "execution_count": 2,
   "metadata": {},
   "outputs": [
    {
     "name": "stdout",
     "output_type": "stream",
     "text": [
      "List :  [1, 2, 3, 4]\n",
      "String :  1 2 3 4\n",
      "Tuple :  (1, 2, 3, 4)\n"
     ]
    }
   ],
   "source": [
    "s1 = {1,2,3,4,1,2,3}\n",
    "\n",
    "list_from_set = list(s1)\n",
    "print(\"List : \",list_from_set)\n",
    "\n",
    "string_from_set = ' '.join(map(str,s1))\n",
    "print(\"String : \",string_from_set)\n",
    "\n",
    "tuple_from_set = tuple(s1)\n",
    "print(\"Tuple : \",tuple_from_set)"
   ]
  },
  {
   "cell_type": "markdown",
   "metadata": {},
   "source": [
    "### 03) WAP to find Maximum and Minimum from a set."
   ]
  },
  {
   "cell_type": "code",
   "execution_count": 3,
   "metadata": {},
   "outputs": [
    {
     "name": "stdout",
     "output_type": "stream",
     "text": [
      "Maximum num :  4\n",
      "Maximum num :  1\n"
     ]
    }
   ],
   "source": [
    "print(\"Maximum num : \",max(s1))\n",
    "print(\"Maximum num : \",min(s1))"
   ]
  },
  {
   "cell_type": "markdown",
   "metadata": {},
   "source": [
    "### 04) WAP to perform union of two sets."
   ]
  },
  {
   "cell_type": "code",
   "execution_count": 4,
   "metadata": {},
   "outputs": [
    {
     "name": "stdout",
     "output_type": "stream",
     "text": [
      "Union :  {1, 2, 3, 4, 5, 6, 7, 8, 9, 10}\n"
     ]
    }
   ],
   "source": [
    "s4a = {1,2,3,4,5,6}\n",
    "s4b = {6,7,8,9,10}\n",
    "\n",
    "union = s4a | s4b\n",
    "print(\"Union : \",union)"
   ]
  },
  {
   "cell_type": "markdown",
   "metadata": {},
   "source": [
    "### 05) WAP to check if two lists have at-least one element common."
   ]
  },
  {
   "cell_type": "code",
   "execution_count": 6,
   "metadata": {},
   "outputs": [
    {
     "name": "stdout",
     "output_type": "stream",
     "text": [
      "Yes!, list have at-least one element common\n"
     ]
    }
   ],
   "source": [
    "l5a = [1,2,3,4,5,6]\n",
    "l5b = [1,2,3,7,8,9]\n",
    "\n",
    "if len(set(l5a).intersection(set(l5b)))>0 :\n",
    "    print(\"Yes!, list have at-least one element common\")\n",
    "else : \n",
    "    print(\"list have not at-least one element common\")"
   ]
  },
  {
   "cell_type": "markdown",
   "metadata": {},
   "source": [
    "### 06) WAP to remove duplicates from list."
   ]
  },
  {
   "cell_type": "code",
   "execution_count": 9,
   "metadata": {},
   "outputs": [
    {
     "data": {
      "text/plain": [
       "[1, 2, 3, 4, 5]"
      ]
     },
     "execution_count": 9,
     "metadata": {},
     "output_type": "execute_result"
    }
   ],
   "source": [
    "l6 = [1,1,2,2,3,4,5]\n",
    "list(set(l6))\n"
   ]
  },
  {
   "cell_type": "markdown",
   "metadata": {},
   "source": [
    "### 07) WAP to find unique words in the given string."
   ]
  },
  {
   "cell_type": "code",
   "execution_count": 10,
   "metadata": {},
   "outputs": [
    {
     "data": {
      "text/plain": [
       "{'Hello', 'Hi', 'Jenil', 'Python'}"
      ]
     },
     "execution_count": 10,
     "metadata": {},
     "output_type": "execute_result"
    }
   ],
   "source": [
    "s1 = \"Hello Hello Hi Python Jenil\"\n",
    "set(s1.split(\" \"))"
   ]
  },
  {
   "cell_type": "markdown",
   "metadata": {},
   "source": [
    "### 08) WAP to remove common elements of set A & B from set A."
   ]
  },
  {
   "cell_type": "code",
   "execution_count": 12,
   "metadata": {},
   "outputs": [
    {
     "data": {
      "text/plain": [
       "{1, 2, 3, 4}"
      ]
     },
     "execution_count": 12,
     "metadata": {},
     "output_type": "execute_result"
    }
   ],
   "source": [
    "A = {1,2,3,4,5,6,7}\n",
    "B = {5,6,7,8,9,10}\n",
    "\n",
    "A.difference_update(B)\n",
    "A"
   ]
  },
  {
   "cell_type": "markdown",
   "metadata": {},
   "source": [
    "### 09) WAP to check whether two given strings are anagram or not using set."
   ]
  },
  {
   "cell_type": "code",
   "execution_count": 36,
   "metadata": {},
   "outputs": [
    {
     "name": "stdout",
     "output_type": "stream",
     "text": [
      "Given strings are anagram\n"
     ]
    }
   ],
   "source": [
    "s9a = 'LISTEN'\n",
    "s9b = 'SILENT'\n",
    "\n",
    "set9a = set(s9a)\n",
    "set9b = set(s9b)\n",
    "\n",
    "if set9a == set9b :\n",
    "    print(\"Given strings are anagram\")\n",
    "else :\n",
    "    print(\"Given strings are not anagram\")"
   ]
  },
  {
   "cell_type": "markdown",
   "metadata": {},
   "source": [
    "### 10) WAP to find common elements in three lists using set."
   ]
  },
  {
   "cell_type": "code",
   "execution_count": 13,
   "metadata": {},
   "outputs": [
    {
     "data": {
      "text/plain": [
       "[2, 4]"
      ]
     },
     "execution_count": 13,
     "metadata": {},
     "output_type": "execute_result"
    }
   ],
   "source": [
    "l1 = [1,2,3,4,1,2,3]\n",
    "l2 = [5,6,2,7,4,8]\n",
    "l3 = [9,2,6,3,4]\n",
    "\n",
    "uniue_from_threeList = list(set(l1).intersection(set(l2)).intersection(set(l3)))\n",
    "uniue_from_threeList"
   ]
  },
  {
   "cell_type": "markdown",
   "metadata": {},
   "source": [
    "### 11) WAP to count number of vowels in given string using set."
   ]
  },
  {
   "cell_type": "code",
   "execution_count": 29,
   "metadata": {},
   "outputs": [
    {
     "data": {
      "text/plain": [
       "5"
      ]
     },
     "execution_count": 29,
     "metadata": {},
     "output_type": "execute_result"
    }
   ],
   "source": [
    "vowels = \"aeiou\"\n",
    "s1 = \"Hello World From Python\".lower()\n",
    "\n",
    "stringVowels = set(vowels).intersection(set(s1))\n",
    "\n",
    "numberOfVowels = 0\n",
    "for i in stringVowels:\n",
    "    numberOfVowels += s1.count(i)\n",
    "numberOfVowels    "
   ]
  },
  {
   "cell_type": "markdown",
   "metadata": {},
   "source": [
    "### 12) WAP to check if a given string is binary string or not."
   ]
  },
  {
   "cell_type": "code",
   "execution_count": 23,
   "metadata": {},
   "outputs": [
    {
     "name": "stdout",
     "output_type": "stream",
     "text": [
      "Binary String\n"
     ]
    }
   ],
   "source": [
    "binary_str = \"0010\"\n",
    "binary_set = {'0','1'}\n",
    "if set(binary_str).difference(binary_set)==set():\n",
    "    print(\"Binary String\")\n",
    "else:\n",
    "    print(\"Not a Binary String\")    "
   ]
  },
  {
   "cell_type": "markdown",
   "metadata": {},
   "source": [
    "### 13) WAP to sort dictionary by key or value."
   ]
  },
  {
   "cell_type": "code",
   "execution_count": 31,
   "metadata": {},
   "outputs": [
    {
     "data": {
      "text/plain": [
       "{'age': 18, 'email': 'mj2807@gmail.com', 'mobile': 1234567890, 'name': 'Meet'}"
      ]
     },
     "execution_count": 31,
     "metadata": {},
     "output_type": "execute_result"
    }
   ],
   "source": [
    "d1 = {\"name\":\"Meet\",\"age\":18,\"mobile\":1234567890,\"email\":\"mj2807@gmail.com\"}\n",
    "sorted_dictonary_byKey = {}\n",
    "key = sorted(d1.keys())\n",
    "for i in key:\n",
    "    sorted_dict_byKey[i] = d1[i]\n",
    "sorted_dict_byKey    "
   ]
  },
  {
   "cell_type": "markdown",
   "metadata": {},
   "source": [
    "### 14) WAP to find the sum of all items (values) in a dictionary given by user. (Assume: values are numeric)"
   ]
  },
  {
   "cell_type": "code",
   "execution_count": 27,
   "metadata": {},
   "outputs": [
    {
     "name": "stdin",
     "output_type": "stream",
     "text": [
      "Enter Length Of Dictonary :  4\n",
      "Enter a Number : 1\n",
      "Enter a Number : 5\n",
      "Enter a Number : 4\n",
      "Enter a Number : 8\n"
     ]
    },
    {
     "data": {
      "text/plain": [
       "18"
      ]
     },
     "execution_count": 27,
     "metadata": {},
     "output_type": "execute_result"
    }
   ],
   "source": [
    "length_Of_dict = int(input(\"Enter Length Of Dictonary : \"))\n",
    "d1 = {}\n",
    "\n",
    "for i in range(length_Of_dict):\n",
    "    d1[i] = int(input(\"Enter a Number :\"))\n",
    "sum(d1.values())    "
   ]
  },
  {
   "cell_type": "markdown",
   "metadata": {},
   "source": [
    "### 15) WAP to handle missing keys in dictionaries.\n",
    "#### Example : Given, dict1 = {'a': 5, 'c': 8, 'e': 2} \n",
    "#### if you look for key = 'd', the message given should be 'Key Not Found', otherwise print the value of 'd' in dict1."
   ]
  },
  {
   "cell_type": "code",
   "execution_count": 35,
   "metadata": {},
   "outputs": [
    {
     "name": "stdin",
     "output_type": "stream",
     "text": [
      "Enter Key To Search :  f\n"
     ]
    },
    {
     "name": "stdout",
     "output_type": "stream",
     "text": [
      "Key Not Found\n"
     ]
    }
   ],
   "source": [
    "dict1 = {'a':5,'c':8,'e':2}\n",
    "keyList = list(dict1.keys())\n",
    "\n",
    "keyByUser = input(\"Enter Key To Search : \")\n",
    "if keyByUser not in keyList:\n",
    "    print(\"Key Not Found\")\n",
    "else:    \n",
    "    print(dict1.get(keyByUser))"
   ]
  }
 ],
 "metadata": {
  "kernelspec": {
   "display_name": "Python 3 (ipykernel)",
   "language": "python",
   "name": "python3"
  },
  "language_info": {
   "codemirror_mode": {
    "name": "ipython",
    "version": 3
   },
   "file_extension": ".py",
   "mimetype": "text/x-python",
   "name": "python",
   "nbconvert_exporter": "python",
   "pygments_lexer": "ipython3",
   "version": "3.12.7"
  }
 },
 "nbformat": 4,
 "nbformat_minor": 4
}
