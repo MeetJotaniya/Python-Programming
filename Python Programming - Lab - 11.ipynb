{
 "cells": [
  {
   "attachments": {},
   "cell_type": "markdown",
   "metadata": {},
   "source": [
    "\n",
    "<a href='https://www.darshan.ac.in/'> <img src='https://www.darshan.ac.in/Content/media/DU_Logo.svg' width=\"250\" height=\"300\"/></a>\n",
    "<pre>\n",
    "<center><b><h1>Python Programming - 2301CS404</b></center>\n",
    "<center><b><h1>Lab - 11</b></center> \n",
    "<pre>"
   ]
  },
  {
   "cell_type": "markdown",
   "metadata": {},
   "source": [
    "# Modules"
   ]
  },
  {
   "cell_type": "markdown",
   "metadata": {},
   "source": [
    "### 01) WAP to create Calculator module which defines functions like add, sub,mul and div. \n",
    "### Create another .py file that uses the functions available in Calculator module."
   ]
  },
  {
   "cell_type": "code",
   "execution_count": 1,
   "metadata": {},
   "outputs": [
    {
     "name": "stdin",
     "output_type": "stream",
     "text": [
      "Enter first number :  1\n",
      "Enter second number :  2\n"
     ]
    },
    {
     "name": "stdout",
     "output_type": "stream",
     "text": [
      "Sum =  3\n",
      "Difference =  -1\n",
      "Product =  2\n",
      "Quotient =  0.5\n"
     ]
    }
   ],
   "source": [
    "import Calculator as calc\n",
    "a = int(input(\"Enter first number : \"))\n",
    "b = int(input(\"Enter second number : \"))\n",
    "print(\"Sum = \",calc.add(a,b))\n",
    "print(\"Difference = \",calc.sub(a,b))\n",
    "print(\"Product = \",calc.mul(a,b))\n",
    "print(\"Quotient = \",calc.div(a,b))"
   ]
  },
  {
   "cell_type": "markdown",
   "metadata": {},
   "source": [
    "### 02) WAP to pick a random character from a given String."
   ]
  },
  {
   "cell_type": "code",
   "execution_count": 9,
   "metadata": {},
   "outputs": [
    {
     "name": "stdin",
     "output_type": "stream",
     "text": [
      "Enter a string :  HelloWorld\n"
     ]
    },
    {
     "name": "stdout",
     "output_type": "stream",
     "text": [
      "Random Character =  e\n"
     ]
    }
   ],
   "source": [
    "import random\n",
    "s = input(\"Enter a string : \")\n",
    "print(\"Random Character = \",random.choice(s))"
   ]
  },
  {
   "cell_type": "markdown",
   "metadata": {},
   "source": [
    "### 03) WAP to pick a random element from a given list."
   ]
  },
  {
   "cell_type": "code",
   "execution_count": 13,
   "metadata": {},
   "outputs": [
    {
     "name": "stdin",
     "output_type": "stream",
     "text": [
      "Enter space separated values :  h e l o l\n"
     ]
    },
    {
     "name": "stdout",
     "output_type": "stream",
     "text": [
      "Random  Element :  l\n"
     ]
    }
   ],
   "source": [
    "import random\n",
    "li = input(\"Enter space separated values : \").split()\n",
    "print(\"Random  Element : \",random.choice(li))"
   ]
  },
  {
   "cell_type": "markdown",
   "metadata": {},
   "source": [
    "### 04) WAP to roll a dice in such a way that every time you get the same number."
   ]
  },
  {
   "cell_type": "code",
   "execution_count": 32,
   "metadata": {},
   "outputs": [
    {
     "name": "stdin",
     "output_type": "stream",
     "text": [
      "Enter a seed value :  100\n",
      "Enter number of times you want to generate number :  5\n"
     ]
    },
    {
     "name": "stdout",
     "output_type": "stream",
     "text": [
      "2\n",
      "2\n",
      "2\n",
      "2\n",
      "2\n"
     ]
    }
   ],
   "source": [
    "import random\n",
    "n = int(input(\"Enter a seed value : \"))\n",
    "num = int(input(\"Enter number of times you want to generate number : \"))\n",
    "for _ in range(num):\n",
    "    random.seed(n)\n",
    "    print(random.randint(1,6))"
   ]
  },
  {
   "cell_type": "markdown",
   "metadata": {},
   "source": [
    "### 05) WAP to generate 3 random integers between 100 and 999 which is divisible by 5."
   ]
  },
  {
   "cell_type": "code",
   "execution_count": 25,
   "metadata": {},
   "outputs": [
    {
     "name": "stdout",
     "output_type": "stream",
     "text": [
      " 555\n",
      " 980\n",
      " 930\n"
     ]
    }
   ],
   "source": [
    "import random\n",
    "for _ in range(3):\n",
    "    print(\"\",random.randrange(100,999,5))"
   ]
  },
  {
   "cell_type": "markdown",
   "metadata": {},
   "source": [
    "### 06) WAP to generate 100 random lottery tickets and pick two lucky tickets from it and announce them as Winner and Runner up respectively."
   ]
  },
  {
   "cell_type": "code",
   "execution_count": 34,
   "metadata": {},
   "outputs": [
    {
     "name": "stdout",
     "output_type": "stream",
     "text": [
      "Winner =  297756\n",
      "Runner Up =  521250\n"
     ]
    }
   ],
   "source": [
    "import random\n",
    "lottery_tickets = [random.randint(100000, 999999) for _ in range(100)]\n",
    "winner = random.choice(lottery_tickets)\n",
    "runner_up = random.choice([ticket for ticket in lottery_tickets if ticket!=winner])\n",
    "print(\"Winner = \",winner)\n",
    "print(\"Runner Up = \",runner_up)\n"
   ]
  },
  {
   "cell_type": "markdown",
   "metadata": {},
   "source": [
    "### 07) WAP to print current date and time in Python."
   ]
  },
  {
   "cell_type": "code",
   "execution_count": 17,
   "metadata": {},
   "outputs": [
    {
     "name": "stdout",
     "output_type": "stream",
     "text": [
      "Current Date and Time :  2025-02-13 12:35:13.641423\n"
     ]
    }
   ],
   "source": [
    "import datetime\n",
    "print(\"Current Date and Time : \",datetime.datetime.now())"
   ]
  },
  {
   "cell_type": "markdown",
   "metadata": {},
   "source": [
    "### 08) Subtract a week (7 days) from a given date in Python."
   ]
  },
  {
   "cell_type": "code",
   "execution_count": 36,
   "metadata": {},
   "outputs": [
    {
     "name": "stdin",
     "output_type": "stream",
     "text": [
      "Enter a date(YYYY-MM-DD) :  2024-01-07\n"
     ]
    },
    {
     "name": "stdout",
     "output_type": "stream",
     "text": [
      "New Date =  2023-12-31\n"
     ]
    }
   ],
   "source": [
    "from datetime import datetime,timedelta\n",
    "d = input(\"Enter a date(YYYY-MM-DD) : \")\n",
    "given_date = datetime.strptime(d,\"%Y-%m-%d\")\n",
    "new_date = given_date-timedelta(days=7)\n",
    "print(\"New Date = \",new_date.date())"
   ]
  },
  {
   "cell_type": "markdown",
   "metadata": {},
   "source": [
    "### 09) WAP to Calculate number of days between two given dates."
   ]
  },
  {
   "cell_type": "code",
   "execution_count": 44,
   "metadata": {},
   "outputs": [
    {
     "name": "stdin",
     "output_type": "stream",
     "text": [
      "Enter starting date(YYYY-MM-DD) :  2001-01-01\n",
      "Enter ending date(YYYY-MM-DD) : 2010-10-10\n"
     ]
    },
    {
     "name": "stdout",
     "output_type": "stream",
     "text": [
      "Difference in days =  3569\n"
     ]
    }
   ],
   "source": [
    "from datetime import datetime,timedelta\n",
    "s = input(\"Enter starting date(YYYY-MM-DD) : \")\n",
    "e = input(\"Enter ending date(YYYY-MM-DD) :\")\n",
    "start = datetime.strptime(s,\"%Y-%m-%d\")\n",
    "end = datetime.strptime(e,\"%Y-%m-%d\")\n",
    "diff = (end-start).days\n",
    "print(\"Difference in days = \",diff)"
   ]
  },
  {
   "cell_type": "markdown",
   "metadata": {},
   "source": [
    "### 10) WAP to Find the day of the week of a given date.(i.e. wether it is sunday/monday/tuesday/etc.)"
   ]
  },
  {
   "cell_type": "code",
   "execution_count": 64,
   "metadata": {},
   "outputs": [
    {
     "name": "stdin",
     "output_type": "stream",
     "text": [
      "Enter the date (YYYY-MM-DD):  2023-01-12\n"
     ]
    },
    {
     "name": "stdout",
     "output_type": "stream",
     "text": [
      "The day of the week for 2023-01-12 is: Thursday.\n"
     ]
    }
   ],
   "source": [
    "from datetime import datetime\n",
    "date_input = input(\"Enter the date (YYYY-MM-DD): \")\n",
    "try:\n",
    "    given_date = datetime.strptime(date_input, \"%Y-%m-%d\")\n",
    "    day_of_week = given_date.strftime(\"%A\")\n",
    "    print(f\"The day of the week for {date_input} is: {day_of_week}.\")\n",
    "except ValueError:\n",
    "    print(\"Invalid date format. Please enter the date in YYYY-MM-DD format.\")\n"
   ]
  },
  {
   "cell_type": "markdown",
   "metadata": {},
   "source": [
    "### 11) WAP to demonstrate the use of date time module."
   ]
  },
  {
   "cell_type": "code",
   "execution_count": 76,
   "metadata": {},
   "outputs": [
    {
     "name": "stdout",
     "output_type": "stream",
     "text": [
      "Current Date and Time: 2025-02-13 13:31:54.998471\n",
      "Current date =  2025-02-13\n",
      "Year: 2025\n",
      "Month: 2\n",
      "Day: 13\n",
      "Hour: 13\n",
      "Minute: 31\n",
      "Second: 54\n"
     ]
    }
   ],
   "source": [
    "from datetime import datetime, timedelta,date\n",
    "current_datetime = datetime.now()\n",
    "print(\"Current Date and Time:\", current_datetime)\n",
    "print(\"Current date = \",date.today())\n",
    "print(\"Year:\", current_datetime.year)\n",
    "print(\"Month:\", current_datetime.month)\n",
    "print(\"Day:\", current_datetime.day)\n",
    "print(\"Hour:\", current_datetime.hour)\n",
    "print(\"Minute:\", current_datetime.minute)\n",
    "print(\"Second:\", current_datetime.second)"
   ]
  },
  {
   "cell_type": "markdown",
   "metadata": {},
   "source": [
    "### 12) WAP to demonstrate the use of the math module."
   ]
  },
  {
   "cell_type": "code",
   "execution_count": 78,
   "metadata": {},
   "outputs": [
    {
     "name": "stdout",
     "output_type": "stream",
     "text": [
      "Value of PI :  3.141592653589793\n",
      "Value of E :  2.718281828459045\n",
      "Square root of 10 =  3.1622776601683795\n",
      "Natural log of 10: 2.302585092994046\n",
      "Log base 10 of 100: 2.0\n",
      "Exponential of 2 (e^2): 7.38905609893065\n",
      "Factorial of 5: 120\n",
      "Absolute value of -7.5: 7.5\n"
     ]
    }
   ],
   "source": [
    "import math\n",
    "print(\"Value of PI : \",math.pi)\n",
    "print(\"Value of E : \",math.e)\n",
    "print(\"Square root of 10 = \",math.sqrt(10))\n",
    "print(\"Natural log of 10:\", math.log(10))\n",
    "print(\"Log base 10 of 100:\", math.log10(100))\n",
    "print(\"Exponential of 2 (e^2):\", math.exp(2))\n",
    "print(f\"Factorial of 5:\", math.factorial(5))\n",
    "print(f\"Absolute value of -7.5:\", math.fabs(-7.5))"
   ]
  },
  {
   "cell_type": "code",
   "execution_count": null,
   "metadata": {},
   "outputs": [],
   "source": []
  }
 ],
 "metadata": {
  "kernelspec": {
   "display_name": "Python 3 (ipykernel)",
   "language": "python",
   "name": "python3"
  },
  "language_info": {
   "codemirror_mode": {
    "name": "ipython",
    "version": 3
   },
   "file_extension": ".py",
   "mimetype": "text/x-python",
   "name": "python",
   "nbconvert_exporter": "python",
   "pygments_lexer": "ipython3",
   "version": "3.12.7"
  }
 },
 "nbformat": 4,
 "nbformat_minor": 4
}
