{
 "cells": [
  {
   "cell_type": "markdown",
   "metadata": {},
   "source": [
    "\n",
    "<a href='https://www.darshan.ac.in/'> <img src='https://www.darshan.ac.in/Content/media/DU_Logo.svg' width=\"250\" height=\"300\"/></a>\n",
    "<pre>\n",
    "<center><b><h1>Python Programming - 2301CS404</b></center>\n",
    "<center><b><h1>Lab - 13</b></center> \n",
    "<pre>"
   ]
  },
  {
   "cell_type": "markdown",
   "metadata": {},
   "source": [
    "# OOP"
   ]
  },
  {
   "cell_type": "markdown",
   "metadata": {},
   "source": [
    "### 01) Write a Program to create a class by name Students, and initialize attributes like name, age, and grade while creating an object."
   ]
  },
  {
   "cell_type": "code",
   "execution_count": 3,
   "metadata": {},
   "outputs": [
    {
     "name": "stdin",
     "output_type": "stream",
     "text": [
      "Enter name of Student :  rohan\n",
      "Enter age of Student :  18\n",
      "Enter grade of Student :  A+\n"
     ]
    },
    {
     "name": "stdout",
     "output_type": "stream",
     "text": [
      "Name = rohan,Age = 18,Grade = A+\n"
     ]
    }
   ],
   "source": [
    "class Students:\n",
    "    def __init__(self,name,age,grade):\n",
    "        self.name=name\n",
    "        self.age=age\n",
    "        self.grade=grade\n",
    "name = input(\"Enter name of Student : \")\n",
    "age = int(input(\"Enter age of Student : \"))\n",
    "grade = input(\"Enter grade of Student : \")\n",
    "s = Students(name,age,grade)\n",
    "print(f\"Name = {s.name},Age = {s.age},Grade = {s.grade}\")"
   ]
  },
  {
   "cell_type": "markdown",
   "metadata": {},
   "source": [
    "### 02) Create a class named Bank_Account with Account_No, User_Name, Email,Account_Type and Account_Balance data members. Also create a method GetAccountDetails() and DisplayAccountDetails(). Create main method to demonstrate the Bank_Account class."
   ]
  },
  {
   "cell_type": "code",
   "execution_count": 9,
   "metadata": {},
   "outputs": [
    {
     "name": "stdin",
     "output_type": "stream",
     "text": [
      "Enter Account Number 10\n",
      "Enter UserName a\n",
      "Enter Email a@b\n",
      "Enter Account Type Special\n",
      "Enter Account Balance 10\n"
     ]
    },
    {
     "name": "stdout",
     "output_type": "stream",
     "text": [
      "Account_No:10\n",
      "User_Name:a\n",
      "Email:a@b\n",
      "Account_Type:Special\n",
      "Account_Balance:10.0\n"
     ]
    }
   ],
   "source": [
    "class Bank_Account:\n",
    "    def __init__(self,Account_No,User_Name,Email,Account_Type,Account_Balance):\n",
    "        self.Account_No=Account_No\n",
    "        self.User_Name=User_Name\n",
    "        self.Email=Email\n",
    "        self.Account_Type=Account_Type\n",
    "        self.Account_Balance=Account_Balance\n",
    "    def GetAccountDetails(self):\n",
    "        self.Account_No = int(input(\"Enter Account Number\"))\n",
    "        self.User_Name = input(\"Enter UserName\")\n",
    "        self.Email = input(\"Enter Email\")\n",
    "        self.Account_Type = input(\"Enter Account Type\")\n",
    "        self.Account_Balance = float(input(\"Enter Account Balance\"))\n",
    "        \n",
    "    def DisplayAccountDetails(self):\n",
    "        print(f\"Account_No:{self.Account_No}\")\n",
    "        print(f\"User_Name:{self.User_Name}\")\n",
    "        print(f\"Email:{self.Email}\")\n",
    "        print(f\"Account_Type:{self.Account_Type}\")\n",
    "        print(f\"Account_Balance:{self.Account_Balance}\")   \n",
    "def main():\n",
    "    account = Bank_Account(\"\",\"\",\"\",\"\",0.0)\n",
    "    account.GetAccountDetails()\n",
    "    account.DisplayAccountDetails()\n",
    "if __name__ == \"__main__\":\n",
    "    main()"
   ]
  },
  {
   "cell_type": "markdown",
   "metadata": {},
   "source": [
    "### 03) WAP to create Circle class with area and perimeter function to find area and perimeter of circle."
   ]
  },
  {
   "cell_type": "code",
   "execution_count": 13,
   "metadata": {},
   "outputs": [
    {
     "name": "stdin",
     "output_type": "stream",
     "text": [
      "Enter radius of circle :  3\n"
     ]
    },
    {
     "name": "stdout",
     "output_type": "stream",
     "text": [
      "Area = 28.274333882308138\n",
      "Perimeter = 18.84955592153876\n"
     ]
    }
   ],
   "source": [
    "import math\n",
    "class Circle:\n",
    "    def __init__(self,r):\n",
    "        self.r=r\n",
    "    def area(self):\n",
    "        return math.pi*self.r*self.r\n",
    "    def perimeter(self):\n",
    "        return 2*math.pi*self.r\n",
    "r = float(input(\"Enter radius of circle : \"))\n",
    "c = Circle(r)\n",
    "print(f\"Area = {c.area()}\")\n",
    "print(f\"Perimeter = {c.perimeter()}\")"
   ]
  },
  {
   "cell_type": "markdown",
   "metadata": {},
   "source": [
    "### 04) Create a class for employees that includes attributes such as name, age, salary, and methods to update and display employee information."
   ]
  },
  {
   "cell_type": "code",
   "execution_count": 17,
   "metadata": {},
   "outputs": [
    {
     "name": "stdin",
     "output_type": "stream",
     "text": [
      "Enter name :  a\n",
      "Enter age :  12\n",
      "Enter salary 12\n",
      "Enter 1 to update and 0 to not update 0\n"
     ]
    },
    {
     "name": "stdout",
     "output_type": "stream",
     "text": [
      "Name = a\n",
      "Age = 12\n",
      "Salary = 12.0\n"
     ]
    }
   ],
   "source": [
    "class Employee:\n",
    "    def __init__(self,name,age,salary):\n",
    "        self.name=name\n",
    "        self.age=age\n",
    "        self.salary=salary\n",
    "    def update(self):\n",
    "        self.name=input(\"Enter name : \")\n",
    "        self.age=int(input(\"Enter age : \"))\n",
    "        self.salary=float(input(\"Enter salary : \"))\n",
    "    def display(self):\n",
    "        print(f\"Name = {self.name}\")\n",
    "        print(f\"Age = {self.age}\")\n",
    "        print(f\"Salary = {self.salary}\")\n",
    "name = input(\"Enter name : \")\n",
    "age = int(input(\"Enter age : \"))\n",
    "salary = float(input(\"Enter salary\"))\n",
    "e = Employee(name,age,salary)\n",
    "n = int(input(\"Enter 1 to update and 0 to not update\"))\n",
    "if n==1:\n",
    "    e.update()\n",
    "    e.display()\n",
    "else:\n",
    "    e.display()"
   ]
  },
  {
   "cell_type": "markdown",
   "metadata": {},
   "source": [
    "### 05) Create a bank account class with methods to deposit, withdraw, and check balance."
   ]
  },
  {
   "cell_type": "code",
   "execution_count": 27,
   "metadata": {},
   "outputs": [
    {
     "name": "stdin",
     "output_type": "stream",
     "text": [
      "Enter balance 100\n"
     ]
    },
    {
     "name": "stdout",
     "output_type": "stream",
     "text": [
      "Enter 1 to deposit\n",
      "Enter 2 to withdraw\n",
      "Enter 3 to display Balance\n",
      "Enter -1 to exit\n"
     ]
    },
    {
     "name": "stdin",
     "output_type": "stream",
     "text": [
      " 1\n",
      "Enter amount to deposit :  20\n"
     ]
    },
    {
     "name": "stdout",
     "output_type": "stream",
     "text": [
      "Enter 1 to deposit\n",
      "Enter 2 to withdraw\n",
      "Enter 3 to display Balance\n",
      "Enter -1 to exit\n"
     ]
    },
    {
     "name": "stdin",
     "output_type": "stream",
     "text": [
      " 3\n"
     ]
    },
    {
     "name": "stdout",
     "output_type": "stream",
     "text": [
      "Current Balance = 120\n",
      "Enter 1 to deposit\n",
      "Enter 2 to withdraw\n",
      "Enter 3 to display Balance\n",
      "Enter -1 to exit\n"
     ]
    },
    {
     "name": "stdin",
     "output_type": "stream",
     "text": [
      " 2\n",
      "Enter amount to withdraw :  20\n"
     ]
    },
    {
     "name": "stdout",
     "output_type": "stream",
     "text": [
      "Enter 1 to deposit\n",
      "Enter 2 to withdraw\n",
      "Enter 3 to display Balance\n",
      "Enter -1 to exit\n"
     ]
    },
    {
     "name": "stdin",
     "output_type": "stream",
     "text": [
      " 3\n"
     ]
    },
    {
     "name": "stdout",
     "output_type": "stream",
     "text": [
      "Current Balance = 100\n",
      "Enter 1 to deposit\n",
      "Enter 2 to withdraw\n",
      "Enter 3 to display Balance\n",
      "Enter -1 to exit\n"
     ]
    },
    {
     "name": "stdin",
     "output_type": "stream",
     "text": [
      " 2\n",
      "Enter amount to withdraw :  120\n"
     ]
    },
    {
     "name": "stdout",
     "output_type": "stream",
     "text": [
      "Insufficient Balance\n",
      "Enter 1 to deposit\n",
      "Enter 2 to withdraw\n",
      "Enter 3 to display Balance\n",
      "Enter -1 to exit\n"
     ]
    },
    {
     "name": "stdin",
     "output_type": "stream",
     "text": [
      " 3\n"
     ]
    },
    {
     "name": "stdout",
     "output_type": "stream",
     "text": [
      "Current Balance = 100\n",
      "Enter 1 to deposit\n",
      "Enter 2 to withdraw\n",
      "Enter 3 to display Balance\n",
      "Enter -1 to exit\n"
     ]
    },
    {
     "name": "stdin",
     "output_type": "stream",
     "text": [
      " -1\n"
     ]
    }
   ],
   "source": [
    "class BankAccount:\n",
    "    account=0\n",
    "    def __init__(self,balance):\n",
    "        self.balance=balance\n",
    "    def deposit(self,amount):\n",
    "        self.balance+=amount\n",
    "    def withdraw(self,amount):\n",
    "        if balance>=amount:\n",
    "            self.balance-=amount\n",
    "        else:\n",
    "            print(\"Insufficient Balance\")\n",
    "    def checkBalance(self):\n",
    "        print(\"Current Balance =\",self.balance)\n",
    "balance = int(input(\"Enter balance\"))\n",
    "b = BankAccount(balance)\n",
    "choice=0\n",
    "while choice!=-1:\n",
    "    print(\"Enter 1 to deposit\")\n",
    "    print(\"Enter 2 to withdraw\")\n",
    "    print(\"Enter 3 to display Balance\")\n",
    "    print(\"Enter -1 to exit\")\n",
    "    choice = int(input())\n",
    "    match(choice):\n",
    "        case 1:\n",
    "            amount = int(input(\"Enter amount to deposit : \"))\n",
    "            b.deposit(amount)\n",
    "            \n",
    "        case 2:\n",
    "            amount = int(input(\"Enter amount to withdraw : \"))\n",
    "            b.withdraw(amount)\n",
    "            \n",
    "        case 3:\n",
    "            b.checkBalance()\n",
    "            \n",
    "        case -1:\n",
    "            break"
   ]
  },
  {
   "cell_type": "markdown",
   "metadata": {},
   "source": [
    "### 06) Create a class for managing inventory that includes attributes such as item name, price, quantity, and methods to add, remove, and update items."
   ]
  },
  {
   "cell_type": "code",
   "execution_count": 1,
   "metadata": {},
   "outputs": [
    {
     "name": "stdout",
     "output_type": "stream",
     "text": [
      "Added 'Apple' to the inventory.\n",
      "Added 'Banana' to the inventory.\n",
      "Added 'Orange' to the inventory.\n",
      "Current Inventory:\n",
      "Apple - Price: 10, Quantity: 50\n",
      "Banana - Price: 5, Quantity: 100\n",
      "Orange - Price: 8, Quantity: 30\n",
      "Removed 20 of 'Apple' from the inventory.\n",
      "Updated 'Banana' in the inventory.\n",
      "Updated 'Orange' in the inventory.\n",
      "Current Inventory:\n",
      "Apple - Price: 10, Quantity: 30\n",
      "Banana - Price: 6, Quantity: 100\n",
      "Orange - Price: 8, Quantity: 50\n"
     ]
    }
   ],
   "source": [
    "class Inventory:\n",
    "    def __init__(self):\n",
    "        # Initialize an empty list to hold inventory items\n",
    "        self.items = []\n",
    "\n",
    "    def add_item(self, item_name, price, quantity):\n",
    "        # Add a new item or update the quantity if it already exists\n",
    "        for item in self.items:\n",
    "            if item[0] == item_name:  # Check if item already exists\n",
    "                item[2] += quantity  # Update quantity\n",
    "                print(f\"Added {quantity} more of '{item_name}' to the inventory.\")\n",
    "                return\n",
    "        self.items.append([item_name, price, quantity])  # Add new item\n",
    "        print(f\"Added '{item_name}' to the inventory.\")\n",
    "\n",
    "    def remove_item(self, item_name, quantity):\n",
    "        # Remove a specific quantity of an item or the item entirely\n",
    "        for item in self.items:\n",
    "            if item[0] == item_name:\n",
    "                if quantity >= item[2]:\n",
    "                    self.items.remove(item)  # Remove the entire item\n",
    "                    print(f\"Removed all of '{item_name}' from the inventory.\")\n",
    "                else:\n",
    "                    item[2] -= quantity  # Update quantity\n",
    "                    print(f\"Removed {quantity} of '{item_name}' from the inventory.\")\n",
    "                return\n",
    "        print(f\"'{item_name}' is not in the inventory.\")\n",
    "\n",
    "    def update_item(self, item_name, price=None, quantity=None):\n",
    "        # Update the price and/or quantity of an item\n",
    "        for item in self.items:\n",
    "            if item[0] == item_name:\n",
    "                if price is not None:\n",
    "                    item[1] = price  # Update price\n",
    "                if quantity is not None:\n",
    "                    item[2] = quantity  # Update quantity\n",
    "                print(f\"Updated '{item_name}' in the inventory.\")\n",
    "                return\n",
    "        print(f\"'{item_name}' is not in the inventory.\")\n",
    "\n",
    "    def display_inventory(self):\n",
    "        # Display the entire inventory with details\n",
    "        if not self.items:\n",
    "            print(\"The inventory is empty.\")\n",
    "        else:\n",
    "            print(\"Current Inventory:\")\n",
    "            for item in self.items:\n",
    "                print(f\"{item[0]} - Price: {item[1]}, Quantity: {item[2]}\")\n",
    "inventory = Inventory()\n",
    "\n",
    "# Add items\n",
    "inventory.add_item(\"Apple\", 10, 50)\n",
    "inventory.add_item(\"Banana\", 5, 100)\n",
    "inventory.add_item(\"Orange\", 8, 30)\n",
    "\n",
    "# Display the inventory\n",
    "inventory.display_inventory()\n",
    "\n",
    "# Remove some items\n",
    "inventory.remove_item(\"Apple\", 20)\n",
    "\n",
    "# Update the price of an item\n",
    "inventory.update_item(\"Banana\", price=6)\n",
    "\n",
    "# Update the quantity of an item\n",
    "inventory.update_item(\"Orange\", quantity=50)\n",
    "\n",
    "# Display the updated inventory\n",
    "inventory.display_inventory()"
   ]
  },
  {
   "cell_type": "markdown",
   "metadata": {},
   "source": [
    "### 07) Create a Class with instance attributes of your choice."
   ]
  },
  {
   "cell_type": "code",
   "execution_count": null,
   "metadata": {},
   "outputs": [],
   "source": [
    "class Book:\n",
    "    def __init__(self, title, author, year_published, genre):\n",
    "        # Instance attributes\n",
    "        self.title = title\n",
    "        self.author = author\n",
    "        self.year_published = year_published\n",
    "        self.genre = genre\n",
    "\n",
    "    def display_info(self):\n",
    "        # Method to display book details\n",
    "        print(f\"'{self.title}' by {self.author}, published in {self.year_published}. Genre: {self.genre}.\")"
   ]
  },
  {
   "cell_type": "markdown",
   "metadata": {},
   "source": [
    "### 08) Create one class student_kit\n",
    "#### Within the student_kit class create one class attribute principal name ( Mr ABC )\n",
    "#### Create one attendance method and take input as number of days.\n",
    "#### While creating student take input their name .\n",
    "#### Create one certificate for each student by taking input of number of days present in class."
   ]
  },
  {
   "cell_type": "code",
   "execution_count": 9,
   "metadata": {},
   "outputs": [
    {
     "name": "stdout",
     "output_type": "stream",
     "text": [
      "Marked 10 days of attendance for Ajay\n",
      "\n",
      "--- Certificate of Attendance ---\n",
      "Principal: Mr ABC\n",
      "Student Name: Ajay\n",
      "Days Present: 10\n",
      "----------------------------------\n",
      "\n"
     ]
    }
   ],
   "source": [
    "class student_kit:\n",
    "    principal_name=\"Mr ABC\"\n",
    "    def __init__(self,student_name):\n",
    "        self.student_name = student_name\n",
    "        self.attendance_days=0\n",
    "    def attendance(self,days_present):\n",
    "        self.attendance_days+=days_present\n",
    "        print(f\"Marked {days_present} days of attendance for {self.student_name}\")\n",
    "    def generate_certificate(self):\n",
    "        print(f\"\\n--- Certificate of Attendance ---\")\n",
    "        print(f\"Principal: {student_kit.principal_name}\")\n",
    "        print(f\"Student Name: {self.student_name}\")\n",
    "        print(f\"Days Present: {self.attendance_days}\")\n",
    "        print(\"----------------------------------\\n\")\n",
    "s = student_kit(\"Ajay\")\n",
    "s.attendance(10)\n",
    "s.generate_certificate()"
   ]
  },
  {
   "cell_type": "markdown",
   "metadata": {},
   "source": [
    "### 09) Define Time class with hour and minute as data member. Also define addition method to add two time objects."
   ]
  },
  {
   "cell_type": "code",
   "execution_count": 13,
   "metadata": {},
   "outputs": [
    {
     "name": "stdin",
     "output_type": "stream",
     "text": [
      "Enter hour1 :  3\n",
      "Enter minute1 :  45\n",
      "Enter hour1 :  4\n",
      "Enter minute1 :  50\n"
     ]
    },
    {
     "name": "stdout",
     "output_type": "stream",
     "text": [
      "8:35\n"
     ]
    }
   ],
   "source": [
    "class Time:\n",
    "    def __init__(self,hour,minute):\n",
    "        self.hour=hour\n",
    "        self.minute=minute\n",
    "    def add(self,t):\n",
    "        total_minute = self.minute+t.minute\n",
    "        total_hour = self.hour+t.hour+(total_minute//60)\n",
    "        total_minute%=60\n",
    "        return Time(total_hour,total_minute)\n",
    "    def display_time(self):\n",
    "        print(f\"{self.hour}:{self.minute}\")\n",
    "h1 = int(input(\"Enter hour1 : \"))\n",
    "m1 = int(input(\"Enter minute1 : \"))\n",
    "h2 = int(input(\"Enter hour1 : \"))\n",
    "m2 = int(input(\"Enter minute1 : \"))\n",
    "t1 = Time(h1,m1)\n",
    "t2 = Time(h2,m2)\n",
    "result = t1.add(t2)\n",
    "result.display_time()"
   ]
  },
  {
   "cell_type": "code",
   "execution_count": null,
   "metadata": {},
   "outputs": [],
   "source": []
  }
 ],
 "metadata": {
  "kernelspec": {
   "display_name": "Python 3 (ipykernel)",
   "language": "python",
   "name": "python3"
  },
  "language_info": {
   "codemirror_mode": {
    "name": "ipython",
    "version": 3
   },
   "file_extension": ".py",
   "mimetype": "text/x-python",
   "name": "python",
   "nbconvert_exporter": "python",
   "pygments_lexer": "ipython3",
   "version": "3.12.7"
  }
 },
 "nbformat": 4,
 "nbformat_minor": 4
}
