{
 "cells": [
  {
   "cell_type": "markdown",
   "metadata": {},
   "source": [
    "<a href='https://www.darshan.ac.in/'> <img src='https://www.darshan.ac.in/Content/media/DU_Logo.svg' width=\"250\" height=\"300\"/></a>\n",
    "<pre>\n",
    "<center><b><h1>Python Programming - 2301CS404</b></center>\n",
    "<center><b><h1>Lab - 10</b></center>    \n",
    "<pre>"
   ]
  },
  {
   "cell_type": "markdown",
   "metadata": {},
   "source": [
    "### 01) WAP to handle following exceptions:\n",
    "1. ZeroDivisionError\n",
    "2. ValueError\n",
    "3. TypeError\n",
    "#### Note: handle them using separate except blocks and also using single except block too."
   ]
  },
  {
   "cell_type": "markdown",
   "metadata": {},
   "source": [
    "# Exception Handling"
   ]
  },
  {
   "cell_type": "code",
   "execution_count": 8,
   "metadata": {},
   "outputs": [
    {
     "name": "stdin",
     "output_type": "stream",
     "text": [
      "Enter the number 1:  4\n",
      "Enter the number 2:  5\n",
      "Enter STring 45454\n"
     ]
    },
    {
     "name": "stdout",
     "output_type": "stream",
     "text": [
      "Error is typeError\n",
      "unsupported operand type(s) for +: 'int' and 'str'\n"
     ]
    }
   ],
   "source": [
    "try:\n",
    "    a = int(input(\"Enter the number 1: \"))\n",
    "    b = int(input(\"Enter the number 2: \"))\n",
    "    c = input(\"Enter String\")\n",
    "    print(a+c)\n",
    "    print(a/b)\n",
    "\n",
    "except ZeroDivisionError as err:\n",
    "    print(\"Error is zeroDivisionError\")\n",
    "    print(err)\n",
    "          \n",
    "except ValueError as err:\n",
    "    print(\"Error is valueError\")\n",
    "    print(err)\n",
    "\n",
    "\n",
    "except TypeError as err:\n",
    "    print(\"Error is typeError\")\n",
    "    print(err)\n",
    "          "
   ]
  },
  {
   "cell_type": "markdown",
   "metadata": {},
   "source": [
    "### 02)  WAP to handle following exceptions:\n",
    "1. IndexError\n",
    "2. KeyError"
   ]
  },
  {
   "cell_type": "code",
   "execution_count": 10,
   "metadata": {},
   "outputs": [
    {
     "name": "stdout",
     "output_type": "stream",
     "text": [
      "Error is IndexError\n",
      "list index out of range\n"
     ]
    }
   ],
   "source": [
    "l2 = [1,2,3,4,5]\n",
    "\n",
    "try:\n",
    "    print(l2[7])\n",
    "except IndexError as err:\n",
    "    print(\"Error is IndexError\")\n",
    "    print(err)\n",
    "    "
   ]
  },
  {
   "cell_type": "code",
   "execution_count": 11,
   "metadata": {},
   "outputs": [
    {
     "name": "stdout",
     "output_type": "stream",
     "text": [
      "Error is KeyError\n",
      "7\n"
     ]
    }
   ],
   "source": [
    "m2 = {1:'1',2:'2',3:'3',4:'4'}\n",
    "\n",
    "try:\n",
    "    print(m2[7])\n",
    "except KeyError as err:\n",
    "    print(\"Error is KeyError\")\n",
    "    print(err)"
   ]
  },
  {
   "cell_type": "markdown",
   "metadata": {},
   "source": [
    "### 03) WAP to handle following exceptions:\n",
    "1. FileNotFoundError\n",
    "2. ModuleNotFoundError"
   ]
  },
  {
   "cell_type": "code",
   "execution_count": 12,
   "metadata": {},
   "outputs": [
    {
     "name": "stdout",
     "output_type": "stream",
     "text": [
      "FileNotFoundError\n",
      "[Errno 2] No such file or directory: 'jenil.txt'\n"
     ]
    }
   ],
   "source": [
    "try:\n",
    "    fp3 = open('jenil.txt','r')\n",
    "\n",
    "except FileNotFoundError as err:\n",
    "    print(\"FileNotFoundError\")\n",
    "    print(err)"
   ]
  },
  {
   "cell_type": "code",
   "execution_count": 13,
   "metadata": {},
   "outputs": [
    {
     "name": "stdout",
     "output_type": "stream",
     "text": [
      "ModuleNotFoundError\n",
      "No module named 'njodkasn'\n"
     ]
    }
   ],
   "source": [
    "try:\n",
    "    import njodkasn\n",
    "\n",
    "except ModuleNotFoundError as err:\n",
    "    print(\"ModuleNotFoundError\")\n",
    "    print(err)"
   ]
  },
  {
   "cell_type": "markdown",
   "metadata": {},
   "source": [
    "### 04) WAP that catches all type of exceptions in a single except block."
   ]
  },
  {
   "cell_type": "code",
   "execution_count": 14,
   "metadata": {},
   "outputs": [
    {
     "name": "stdout",
     "output_type": "stream",
     "text": [
      "Error occures\n",
      "[Errno 2] No such file or directory: 'jenil.txt'\n"
     ]
    }
   ],
   "source": [
    "try:\n",
    "    fp4 = open('jenil.txt','r')\n",
    "\n",
    "except Exception as err:\n",
    "    print(\"Error occures\")\n",
    "    print(err)"
   ]
  },
  {
   "cell_type": "markdown",
   "metadata": {},
   "source": [
    "### 05) WAP to demonstrate else  and finally block."
   ]
  },
  {
   "cell_type": "code",
   "execution_count": 15,
   "metadata": {},
   "outputs": [
    {
     "name": "stdout",
     "output_type": "stream",
     "text": [
      "FileNotFoundError\n",
      "[Errno 2] No such file or directory: 'jenil.txt'\n",
      "File is found or not found this block will execute\n"
     ]
    }
   ],
   "source": [
    "try:\n",
    "    fp5 = open('jenil.txt','r')\n",
    "\n",
    "except FileNotFoundError as err:\n",
    "    print(\"FileNotFoundError\")\n",
    "    print(err)\n",
    "else:\n",
    "    print(fp5.read())\n",
    "    fp5.close()\n",
    "finally:\n",
    "    print(\"File is found or not found this block will execute\")"
   ]
  },
  {
   "cell_type": "markdown",
   "metadata": {},
   "source": [
    "### 06) Create a short program that prompts the user for a list of grades separated by commas. \n",
    "### Split the string into individual grades and use a list comprehension to convert each string to an integer. \n",
    "### You should use a try statement to inform the user when the values they entered cannot be converted."
   ]
  },
  {
   "cell_type": "code",
   "execution_count": 18,
   "metadata": {},
   "outputs": [
    {
     "name": "stdin",
     "output_type": "stream",
     "text": [
      " 1,2,3,a,b\n"
     ]
    },
    {
     "name": "stdout",
     "output_type": "stream",
     "text": [
      "Error is valueError\n",
      "invalid literal for int() with base 10: 'a'\n"
     ]
    }
   ],
   "source": [
    "try: \n",
    "    gradeList = list(map(int,input().split(',')))\n",
    "    print(gradeList)\n",
    "except ValueError as err:\n",
    "    print(\"Error is valueError\")\n",
    "    print(err)\n"
   ]
  },
  {
   "cell_type": "markdown",
   "metadata": {},
   "source": [
    "### 07) WAP to create an udf divide(a,b) that handles ZeroDivisionError."
   ]
  },
  {
   "cell_type": "code",
   "execution_count": 20,
   "metadata": {},
   "outputs": [
    {
     "name": "stdout",
     "output_type": "stream",
     "text": [
      "ZeroDivisionError\n",
      "division by zero\n"
     ]
    }
   ],
   "source": [
    "def divide(a,b):\n",
    "    try:\n",
    "        print(a/b)\n",
    "    except ZeroDivisionError as err:\n",
    "        print(\"ZeroDivisionError\")\n",
    "        print(err)\n",
    "\n",
    "divide(5,0)"
   ]
  },
  {
   "cell_type": "markdown",
   "metadata": {},
   "source": [
    "### 08) WAP that gets an age of a person form the user and raises ValueError with error message: \"Enter Valid Age\" :\n",
    "#### If the age is less than 18. \n",
    "#### otherwise print the age."
   ]
  },
  {
   "cell_type": "code",
   "execution_count": 23,
   "metadata": {},
   "outputs": [
    {
     "name": "stdin",
     "output_type": "stream",
     "text": [
      "Enter age :  4\n"
     ]
    },
    {
     "name": "stdout",
     "output_type": "stream",
     "text": [
      "ValueError Occurs\n",
      "Enter Valid Age\n"
     ]
    }
   ],
   "source": [
    "try:\n",
    "    age = int(input(\"Enter age : \"))\n",
    "    if age<18:\n",
    "        raise ValueError(\"Enter Valid Age\")\n",
    "    else:\n",
    "        print(\"Your Age Is : \",age)\n",
    "except ValueError as err:\n",
    "    print(\"ValueError Occurs\")\n",
    "    print(err)"
   ]
  },
  {
   "cell_type": "markdown",
   "metadata": {},
   "source": [
    "### 09) WAP to raise your custom Exception named InvalidUsernameError with the error message : \"Username must be between 5 and 15 characters long\":\n",
    "#### if the given name is having characters less than 5 or greater than 15.\n",
    "#### otherwise print the given username."
   ]
  },
  {
   "cell_type": "code",
   "execution_count": 29,
   "metadata": {},
   "outputs": [
    {
     "name": "stdin",
     "output_type": "stream",
     "text": [
      "enter your name : aa\n"
     ]
    },
    {
     "name": "stdout",
     "output_type": "stream",
     "text": [
      "Enter valid name\n"
     ]
    }
   ],
   "source": [
    "class InvaidUserName1(Exception):\n",
    "    pass\n",
    "\n",
    "name = input('enter your name :')\n",
    "\n",
    "\n",
    "if(len(name) < 5 or len(name) > 15):\n",
    "    try:\n",
    "        raise InvaidUserName1('Enter valid name')\n",
    "    except InvaidUserName1 as u:\n",
    "        print(u)"
   ]
  },
  {
   "cell_type": "markdown",
   "metadata": {},
   "source": [
    "### 10) WAP to raise your custom Exception named NegativeNumberError with the error message : \"Cannot calculate the square root of a negative number\" :\n",
    "#### if the given number is negative.\n",
    "#### otherwise print the square root of the given number."
   ]
  },
  {
   "cell_type": "code",
   "execution_count": 26,
   "metadata": {},
   "outputs": [
    {
     "name": "stdin",
     "output_type": "stream",
     "text": [
      "Enter a number : -8\n"
     ]
    },
    {
     "name": "stdout",
     "output_type": "stream",
     "text": [
      "Enter positive number\n"
     ]
    }
   ],
   "source": [
    "class NegitiveNumber(Exception):\n",
    "    pass\n",
    "    \n",
    "num = int(input('Enter a number :'))\n",
    "\n",
    "\n",
    "if(num < 0):\n",
    "    try:\n",
    "        raise NegitiveNumber('Enter positive number')\n",
    "    except NegitiveNumber as err:\n",
    "        print(err)"
   ]
  }
 ],
 "metadata": {
  "kernelspec": {
   "display_name": "Python 3 (ipykernel)",
   "language": "python",
   "name": "python3"
  },
  "language_info": {
   "codemirror_mode": {
    "name": "ipython",
    "version": 3
   },
   "file_extension": ".py",
   "mimetype": "text/x-python",
   "name": "python",
   "nbconvert_exporter": "python",
   "pygments_lexer": "ipython3",
   "version": "3.12.7"
  }
 },
 "nbformat": 4,
 "nbformat_minor": 4
}
