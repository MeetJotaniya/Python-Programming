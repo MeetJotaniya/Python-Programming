{
 "cells": [
  {
   "cell_type": "markdown",
   "metadata": {},
   "source": [
    "<a href='https://www.darshan.ac.in/'> <img src='https://www.darshan.ac.in/Content/media/DU_Logo.svg' width=\"250\" height=\"300\"/></a>\n",
    "<pre>\n",
    "<center><b><h1>Python Programming - 2301CS404</b></center>\n",
    "<center><b><h1>Lab - 9</b></center>    \n",
    "<pre>"
   ]
  },
  {
   "cell_type": "markdown",
   "metadata": {},
   "source": [
    "# File I/O"
   ]
  },
  {
   "cell_type": "markdown",
   "metadata": {},
   "source": [
    "### 01) WAP to read and display the contents of a text file. (also try to open the file in some other directory) \n",
    "#### - in the form of a string\n",
    "#### - line by line\n",
    "#### - in the form of a list"
   ]
  },
  {
   "cell_type": "code",
   "execution_count": 2,
   "metadata": {},
   "outputs": [
    {
     "name": "stdout",
     "output_type": "stream",
     "text": [
      "the file in the form of string : $heeloooo\n",
      "hiiii python\n",
      "bahjcbashcbajks\n",
      "Read the file line by line\n",
      "\theeloooo\n",
      "\n",
      "\thiiii python\n",
      "\n",
      "\tbahjcbashcbajks\n",
      "the file in the form of list : $['heeloooo\\n', 'hiiii python\\n', 'bahjcbashcbajks']\n"
     ]
    }
   ],
   "source": [
    "fp1 = open('abc.txt')\n",
    "string1 = fp1.read()\n",
    "\n",
    "print(f'the file in the form of string : ${string1}')\n",
    "\n",
    "fp1 = open('abc.txt','r')\n",
    "print(\"Read the file line by line\")\n",
    "for i in fp1:\n",
    "    print(f'\\t{i}')\n",
    "\n",
    "fp1 = open('abc.txt','r')\n",
    "li = fp1.readlines()\n",
    "print(f'the file in the form of list : ${li}')\n"
   ]
  },
  {
   "cell_type": "markdown",
   "metadata": {},
   "source": [
    "### 02) WAP to create file named \"new.txt\" only if it doesn't exist."
   ]
  },
  {
   "cell_type": "code",
   "execution_count": 3,
   "metadata": {},
   "outputs": [],
   "source": [
    "fp2 = open('new.txt','x')"
   ]
  },
  {
   "cell_type": "markdown",
   "metadata": {},
   "source": [
    "### 03) WAP to read first 5 lines from the text file."
   ]
  },
  {
   "cell_type": "code",
   "execution_count": 6,
   "metadata": {},
   "outputs": [
    {
     "name": "stdout",
     "output_type": "stream",
     "text": [
      "heeloooo\n",
      "\n",
      "hiiii python\n",
      "\n",
      "bahjcbashcbajks\n",
      "\n",
      "4th line\n",
      "\n",
      "5th line che aa\n"
     ]
    }
   ],
   "source": [
    "fp3 = open('abc.txt')\n",
    "\n",
    "for i in range(5):\n",
    "    print(fp3.readline())\n",
    "\n",
    "fp3.close()"
   ]
  },
  {
   "cell_type": "markdown",
   "metadata": {},
   "source": [
    "### 04) WAP to find the longest word(s) in a file"
   ]
  },
  {
   "cell_type": "code",
   "execution_count": 14,
   "metadata": {},
   "outputs": [
    {
     "name": "stdout",
     "output_type": "stream",
     "text": [
      "15\n",
      "bahjcbashcbajks\n"
     ]
    }
   ],
   "source": [
    "fp4 = open('abc.txt')\n",
    "li = fp4.read().split()\n",
    "maxLength = max([len(i) for i in li])\n",
    "print(maxLength)\n",
    "for i in li:\n",
    "    if(len(i) == maxLength):\n",
    "        print(i)\n",
    "\n",
    "fp4.close()"
   ]
  },
  {
   "cell_type": "markdown",
   "metadata": {},
   "source": [
    "### 05) WAP to count the no. of lines, words and characters in a given text file."
   ]
  },
  {
   "cell_type": "code",
   "execution_count": 15,
   "metadata": {},
   "outputs": [
    {
     "name": "stdout",
     "output_type": "stream",
     "text": [
      "No of Lines : 5\n",
      "No of Words : 10\n",
      "No of Characters : 53\n"
     ]
    }
   ],
   "source": [
    "fp5 = open('abc.txt')\n",
    "print(f'No of Lines : {len(fp5.readlines())}')\n",
    "fp5 = open('abc.txt')\n",
    "print(f'No of Words : {len(fp5.read().split())}')\n",
    "fp5 = open('abc.txt')\n",
    "charArray = sum([len(i) for i in fp5.read().split()]) \n",
    "print(f'No of Characters : {charArray}')\n",
    "fp5.close()"
   ]
  },
  {
   "cell_type": "markdown",
   "metadata": {},
   "source": [
    "### 06) WAP to copy the content of a file to the another file."
   ]
  },
  {
   "cell_type": "code",
   "execution_count": 17,
   "metadata": {},
   "outputs": [],
   "source": [
    "fp6_1 = open('abc.txt')\n",
    "\n",
    "st = fp6_1.read()\n",
    "\n",
    "fp6_2 = open(\"temp.txt\",'w')\n",
    "fp6_2.write(st)\n",
    "\n",
    "fp6_1.close()\n",
    "fp6_2.close()"
   ]
  },
  {
   "cell_type": "markdown",
   "metadata": {},
   "source": [
    "### 07) WAP to find the size of the text file. "
   ]
  },
  {
   "cell_type": "code",
   "execution_count": 24,
   "metadata": {},
   "outputs": [
    {
     "name": "stdout",
     "output_type": "stream",
     "text": [
      "The size of the file is : 62\n",
      "The size of flie is :62\n"
     ]
    }
   ],
   "source": [
    "fp7 = open('abc.txt')\n",
    "li7 = fp7.readlines()\n",
    "print(f'The size of the file is : {sum([len(i) for i in li7])}')\n",
    "\n",
    "#or\n",
    "\n",
    "fp7 = open('abc.txt')\n",
    "s7 = fp7.read()\n",
    "print(f'The size of flie is :{len(s7)}')\n",
    "fp7.close()"
   ]
  },
  {
   "cell_type": "markdown",
   "metadata": {},
   "source": [
    "### 08) WAP to create an UDF named frequency to count occurances of the specific word in a given text file."
   ]
  },
  {
   "cell_type": "code",
   "execution_count": 25,
   "metadata": {},
   "outputs": [
    {
     "data": {
      "text/plain": [
       "1"
      ]
     },
     "execution_count": 25,
     "metadata": {},
     "output_type": "execute_result"
    }
   ],
   "source": [
    "def frequency(stringForCount, wordForCount):\n",
    "    temp = stringForCount.split()\n",
    "    return stringForCount.count(wordForCount)    \n",
    "\n",
    "fp8 = open('abc.txt')\n",
    "frequency(fp8.read(),'bahjcbashcbajks')"
   ]
  },
  {
   "cell_type": "markdown",
   "metadata": {},
   "source": [
    "### 09) WAP to get the score of five subjects from the user, store them in a file. Fetch those marks and find the highest score."
   ]
  },
  {
   "cell_type": "code",
   "execution_count": 27,
   "metadata": {},
   "outputs": [
    {
     "name": "stdin",
     "output_type": "stream",
     "text": [
      "Enter marks 0 :  11\n",
      "Enter marks 1 :  22\n",
      "Enter marks 2 :  33\n",
      "Enter marks 3 :  44\n",
      "Enter marks 4 :  55\n"
     ]
    },
    {
     "name": "stdout",
     "output_type": "stream",
     "text": [
      "55\n"
     ]
    }
   ],
   "source": [
    "sub = [int(input(f'Enter marks {i} : ')) for i in range(5)]\n",
    "fp = open('mark.txt','w')\n",
    "for i in sub:\n",
    "    fp.write(str(i) + '\\n')\n",
    "fp.close()\n",
    "\n",
    "fp = open('mark.txt')\n",
    "mark = fp.read().split()\n",
    "\n",
    "print(max(int(i) for i in mark))"
   ]
  },
  {
   "cell_type": "markdown",
   "metadata": {},
   "source": [
    "### 10) WAP to write first 100 prime numbers to a file named primenumbers.txt \n",
    "(Note: each number should be in new line)"
   ]
  },
  {
   "cell_type": "code",
   "execution_count": 40,
   "metadata": {},
   "outputs": [],
   "source": [
    "ps = open('primenumbers.txt', 'a')  \n",
    "count = 2  \n",
    "p = 0 \n",
    "\n",
    "while p < 100: \n",
    "    for i in range(2, int(count**0.5) + 1):  \n",
    "        if count % i == 0:\n",
    "            break \n",
    "    else:\n",
    "        ps.write(str(count) + '\\n')  \n",
    "        p += 1 \n",
    "    \n",
    "    count += 1 \n",
    "\n",
    "ps.close() \n"
   ]
  },
  {
   "cell_type": "markdown",
   "metadata": {},
   "source": [
    "### 11) WAP to merge two files and write it in a new file."
   ]
  },
  {
   "cell_type": "code",
   "execution_count": 29,
   "metadata": {},
   "outputs": [],
   "source": [
    "fp11_1 = open('abc.txt')\n",
    "fp11_2 = open('temp.txt')\n",
    "\n",
    "s11_1 = fp11_1.read()\n",
    "s11_2 = fp11_2.read()\n",
    "\n",
    "fp11_3 = open('merge.txt','w')\n",
    "fp11_3.write(s11_1 + s11_2)\n",
    "fp11_3.close()"
   ]
  },
  {
   "cell_type": "markdown",
   "metadata": {},
   "source": [
    "### 12) WAP to replace word1 by word2 of a text file. Write the updated data to new file."
   ]
  },
  {
   "cell_type": "code",
   "execution_count": 35,
   "metadata": {},
   "outputs": [],
   "source": [
    "fp12_1 = open('abc.txt')\n",
    "s12 = fp12_1.read()\n",
    "\n",
    "replaceWord = s12.replace('hiiii','hiiiiiiiiiiiiiiiii')\n",
    "fp12_1.close()\n",
    "\n",
    "fp12_2 = open('newfile.txt','w')\n",
    "s12_2 = fp12_2.write(replaceWord)\n",
    "fp12_2.close()"
   ]
  },
  {
   "cell_type": "markdown",
   "metadata": {},
   "source": [
    "### 13) Demonstrate tell() and seek() for all the cases(seek from beginning-end-current position) taking a suitable example of your choice."
   ]
  },
  {
   "cell_type": "code",
   "execution_count": 28,
   "metadata": {},
   "outputs": [
    {
     "name": "stdout",
     "output_type": "stream",
     "text": [
      "Before reading:  0\n",
      "After reading 6 characters, pointer is at: 6\n",
      "After seeking pointer to beginning of the file: 0\n",
      "Before reading:  0\n",
      "After seeking pointer to the of the file: 62\n",
      "Before reading:  0\n",
      "After seeking 0 characters, the file pointer is at: 1\n"
     ]
    }
   ],
   "source": [
    "fp = open(\"abc.txt\",\"r\")\n",
    "print(\"Before reading: \",fp.tell())\n",
    "fp.read(6)\n",
    "print(\"After reading 6 characters, pointer is at:\", fp.tell())\n",
    "fp.seek(0,0) \n",
    "print(\"After seeking pointer to beginning of the file:\", fp.tell())\n",
    "fp.close()\n",
    "\n",
    "fp = open(\"abc.txt\",\"r\")\n",
    "print(\"Before reading: \",fp.tell())\n",
    "fp.seek(0,2) \n",
    "print(\"After seeking pointer to the of the file:\", fp.tell())\n",
    "fp.close()\n",
    "\n",
    "fp = open(\"abc.txt\",\"r\")\n",
    "print(\"Before reading: \",fp.tell())\n",
    "fp.read(1)\n",
    "fp.seek(0,1) \n",
    "print(\"After seeking 0 characters, the file pointer is at:\", fp.tell())\n",
    "fp.close()"
   ]
  }
 ],
 "metadata": {
  "kernelspec": {
   "display_name": "Python 3 (ipykernel)",
   "language": "python",
   "name": "python3"
  },
  "language_info": {
   "codemirror_mode": {
    "name": "ipython",
    "version": 3
   },
   "file_extension": ".py",
   "mimetype": "text/x-python",
   "name": "python",
   "nbconvert_exporter": "python",
   "pygments_lexer": "ipython3",
   "version": "3.12.7"
  }
 },
 "nbformat": 4,
 "nbformat_minor": 4
}
