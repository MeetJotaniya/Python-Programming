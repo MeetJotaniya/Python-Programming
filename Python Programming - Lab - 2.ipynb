{
 "cells": [
  {
   "cell_type": "markdown",
   "metadata": {},
   "source": [
    "\n",
    "<a href='https://www.darshan.ac.in/'> <img src='https://www.darshan.ac.in/Content/media/DU_Logo.svg' width=\"250\" height=\"300\"/></a>\n",
    "<pre>\n",
    "<center><b><h1>Meet Jotaniya 23010101116</b></center>    \n",
    "<center><b><h1>Python Programming - 2301CS404</b></center>\n",
    "<center><b><h1>Lab - 2</b></center>    \n",
    "<pre>"
   ]
  },
  {
   "cell_type": "markdown",
   "metadata": {},
   "source": [
    "# if..else.."
   ]
  },
  {
   "cell_type": "markdown",
   "metadata": {},
   "source": [
    "### 01) WAP to check whether the given number is positive or negative."
   ]
  },
  {
   "cell_type": "code",
   "execution_count": 5,
   "metadata": {},
   "outputs": [
    {
     "name": "stdin",
     "output_type": "stream",
     "text": [
      "Enter Number :  5\n"
     ]
    },
    {
     "name": "stdout",
     "output_type": "stream",
     "text": [
      "Number is positive\n"
     ]
    }
   ],
   "source": [
    "num = int(input(\"Enter Number : \"))\n",
    "if num > 0:\n",
    "    print(\"Number is positive\")\n",
    "elif num < 0:\n",
    "    print(\"Number is negative\")\n",
    "else:\n",
    "    print(\"Zero\")"
   ]
  },
  {
   "cell_type": "markdown",
   "metadata": {},
   "source": [
    "### 02) WAP to check whether the given number is odd or even."
   ]
  },
  {
   "cell_type": "code",
   "execution_count": 6,
   "metadata": {},
   "outputs": [
    {
     "name": "stdin",
     "output_type": "stream",
     "text": [
      "Enter Number :  5\n"
     ]
    },
    {
     "name": "stdout",
     "output_type": "stream",
     "text": [
      "Number is odd\n"
     ]
    }
   ],
   "source": [
    "n = int(input(\"Enter Number : \"))\n",
    "if n % 2 == 0:\n",
    "    print(\"Number is even\")\n",
    "else:\n",
    "    print(\"Number is odd\")"
   ]
  },
  {
   "cell_type": "markdown",
   "metadata": {},
   "source": [
    "### 03) WAP to find out largest number from given two numbers using simple if and ternary operator."
   ]
  },
  {
   "cell_type": "code",
   "execution_count": 7,
   "metadata": {},
   "outputs": [
    {
     "name": "stdin",
     "output_type": "stream",
     "text": [
      "Enter Number 1 :  7\n",
      "Enter Number 2 :  9\n"
     ]
    },
    {
     "name": "stdout",
     "output_type": "stream",
     "text": [
      "Number 2 is largest\n"
     ]
    }
   ],
   "source": [
    "n1 = int(input(\"Enter Number 1 : \"))\n",
    "n2 = int(input(\"Enter Number 2 : \"))\n",
    "if n1>n2:\n",
    "    print(\"Number 1 is largest\")\n",
    "else:\n",
    "    print(\"Number 2 is largest\")"
   ]
  },
  {
   "cell_type": "code",
   "execution_count": 11,
   "metadata": {},
   "outputs": [
    {
     "name": "stdin",
     "output_type": "stream",
     "text": [
      "Enter Number 1 :  5\n",
      "Enter Number 2 :  7\n"
     ]
    },
    {
     "name": "stdout",
     "output_type": "stream",
     "text": [
      "7 is largest\n"
     ]
    }
   ],
   "source": [
    "n1 = int(input(\"Enter Number 1 : \"))\n",
    "n2 = int(input(\"Enter Number 2 : \"))\n",
    "largest = n1 if n1 > n2 else n2\n",
    "print(f\"{largest} is largest\")"
   ]
  },
  {
   "cell_type": "markdown",
   "metadata": {},
   "source": [
    "### 04) WAP to find out largest number from given three numbers."
   ]
  },
  {
   "cell_type": "code",
   "execution_count": 12,
   "metadata": {},
   "outputs": [
    {
     "name": "stdin",
     "output_type": "stream",
     "text": [
      "Enter Number 1 :  4\n",
      "Enter Number 2 :  5\n",
      "Enter Number 3 :  6\n"
     ]
    },
    {
     "name": "stdout",
     "output_type": "stream",
     "text": [
      "6 is largest\n"
     ]
    }
   ],
   "source": [
    "num1 = int(input(\"Enter Number 1 : \"))\n",
    "num2 = int(input(\"Enter Number 2 : \"))\n",
    "num3 = int(input(\"Enter Number 3 : \"))\n",
    "if num1>num2 and num1 > num3:\n",
    "    print(f\"{num1} is largest\")\n",
    "elif num2>num1 and num2>num3:\n",
    "    print(f\"{num2} is largest\")\n",
    "else: print(f\"{num3} is largest\")\n",
    "    \n"
   ]
  },
  {
   "cell_type": "markdown",
   "metadata": {},
   "source": [
    "### 05) WAP to check whether the given year is leap year or not.\n",
    "[If a year can be divisible by 4 but not divisible by 100 then it is leap year but if it is divisible by 400 then it is leap year]"
   ]
  },
  {
   "cell_type": "code",
   "execution_count": 16,
   "metadata": {},
   "outputs": [
    {
     "name": "stdin",
     "output_type": "stream",
     "text": [
      "Enter Year :  300\n"
     ]
    },
    {
     "name": "stdout",
     "output_type": "stream",
     "text": [
      "Not leap year\n"
     ]
    }
   ],
   "source": [
    "year = int(input(\"Enter Year : \"))\n",
    "if year%4 == 0 and (year % 100 != 0 or  year%400 == 0):\n",
    "    print(f\"{year} is leap year\")\n",
    "else:\n",
    "    print(\"Not leap year\")\n",
    "    "
   ]
  },
  {
   "cell_type": "markdown",
   "metadata": {},
   "source": [
    "### 06) WAP in python to display the name of the day according to the number given by the user."
   ]
  },
  {
   "cell_type": "code",
   "execution_count": 17,
   "metadata": {},
   "outputs": [
    {
     "name": "stdin",
     "output_type": "stream",
     "text": [
      "Enter Number :  5\n"
     ]
    },
    {
     "name": "stdout",
     "output_type": "stream",
     "text": [
      "Friday\n"
     ]
    }
   ],
   "source": [
    "number = int(input(\"Enter Number : \"))\n",
    "if number % 7 == 0:\n",
    "    print(\"Sunday\")\n",
    "elif number % 7 == 1:\n",
    "    print(\"Monday\")\n",
    "elif number % 7 == 2:\n",
    "    print(\"Tuesday\")\n",
    "elif number % 7 == 3:\n",
    "    print(\"Wednesday\")\n",
    "elif number % 7 == 4:\n",
    "    print(\"Thursday\")\n",
    "elif number % 7 == 5:\n",
    "    print(\"Friday\")\n",
    "elif number % 7 == 6:\n",
    "    print(\"Saturday\")\n",
    "    "
   ]
  },
  {
   "cell_type": "markdown",
   "metadata": {},
   "source": [
    "### 07) WAP to implement simple calculator which performs (add,sub,mul,div) of two no. based on user input."
   ]
  },
  {
   "cell_type": "code",
   "execution_count": 18,
   "metadata": {},
   "outputs": [
    {
     "name": "stdin",
     "output_type": "stream",
     "text": [
      "Enter Number 1 :  4\n",
      "Enter Number 2 :  5\n",
      "Please Enter Operator :  +\n"
     ]
    },
    {
     "name": "stdout",
     "output_type": "stream",
     "text": [
      "The sum is :  9\n"
     ]
    }
   ],
   "source": [
    "number1 = int(input(\"Enter Number 1 : \"))\n",
    "number2 = int(input(\"Enter Number 2 : \"))\n",
    "\n",
    "sign = input(\"Please Enter Operator : \")[0]\n",
    "if sign == '+':\n",
    "    print(\"The sum is : \",number1+number2)\n",
    "elif sign == '-':\n",
    "    print(\"The sub is : \",number1-number2)\n",
    "elif sign == '*':\n",
    "    print(\"The multiplication is : \",number1*number2)\n",
    "elif sign == '/':\n",
    "    print(\"The division is : \",number1/number2)    "
   ]
  },
  {
   "cell_type": "markdown",
   "metadata": {},
   "source": [
    "### 08) WAP to read marks of five subjects. Calculate percentage and print class accordingly. \n",
    "Fail below 35 </br>\n",
    "Pass Class between 35 to 45 </br>\n",
    "Second Class</br>\n",
    "between 45 to 60</br>\n",
    "First Class between 60 to 70</br> \n",
    "Distinction if more than 70"
   ]
  },
  {
   "cell_type": "code",
   "execution_count": 25,
   "metadata": {},
   "outputs": [
    {
     "name": "stdin",
     "output_type": "stream",
     "text": [
      "Enter Marks of subject 1 :  55\n",
      "Enter Marks of subject 2 :  66\n",
      "Enter Marks of subject 3 :  77\n",
      "Enter Marks of subject 4 :  88\n",
      "Enter Marks of subject 5 :  99\n"
     ]
    },
    {
     "name": "stdout",
     "output_type": "stream",
     "text": [
      "Percentage : 77.0%\n",
      "Distinction\n"
     ]
    }
   ],
   "source": [
    "mark1 = int(input(\"Enter Marks of subject 1 : \"))\n",
    "mark2 = int(input(\"Enter Marks of subject 2 : \"))\n",
    "mark3 = int(input(\"Enter Marks of subject 3 : \"))\n",
    "mark4 = int(input(\"Enter Marks of subject 4 : \"))\n",
    "mark5 = int(input(\"Enter Marks of subject 5 : \"))\n",
    "\n",
    "percentage = (mark1+mark2+mark3+mark4+mark5)/5\n",
    "print(f\"Percentage : {percentage}%\")\n",
    "if percentage<35:\n",
    "    print(\"Fail!\")\n",
    "elif percentage>=35 and percentage<45 :\n",
    "    print(\"Pass Class\")\n",
    "elif percentage>=45 and percentage<60 :\n",
    "    print(\"Second Class\")\n",
    "elif percentage<=60 and percentage<70 :\n",
    "    print(\"First Class\")\n",
    "elif percentage>=70 :\n",
    "    print(\"Distinction\")\n",
    "    "
   ]
  },
  {
   "cell_type": "markdown",
   "metadata": {},
   "source": [
    "### 09) Three sides of a triangle are entered through the keyboard, WAP to check whether the triangle is isosceles, equilateral, scalene or right-angled triangle."
   ]
  },
  {
   "cell_type": "code",
   "execution_count": 26,
   "metadata": {},
   "outputs": [
    {
     "name": "stdin",
     "output_type": "stream",
     "text": [
      "Enter the side 1 of triangle :  3\n",
      "Enter the side 2 of triangle :  4\n",
      "Enter the side 3 of triangle :  5\n"
     ]
    },
    {
     "name": "stdout",
     "output_type": "stream",
     "text": [
      "Scalene Triangle\n",
      "It is also Right angle Triangle\n"
     ]
    }
   ],
   "source": [
    "side1 = int(input(\"Enter the side 1 of triangle : \"))\n",
    "side2 = int(input(\"Enter the side 2 of triangle : \"))\n",
    "side3 = int(input(\"Enter the side 3 of triangle : \"))\n",
    "\n",
    "if side1 == side2 == side3:\n",
    "    print(\"Equilateral Triangle\")\n",
    "elif side1 != side2 !=  side3:\n",
    "    print(\"Scalene Triangle\")\n",
    "else:\n",
    "    print(\"Isosceles Triangle\")\n",
    "if side1**2 + side2**2 == side3**2 or side2**2 + side3**2 == side3**1 or side1**2 + side3**2 == side2**2:\n",
    "    print(\"It is also Right angle Triangle\")"
   ]
  },
  {
   "cell_type": "markdown",
   "metadata": {},
   "source": [
    "### 10) WAP to find the second largest number among three user input numbers."
   ]
  },
  {
   "cell_type": "code",
   "execution_count": 27,
   "metadata": {},
   "outputs": [
    {
     "name": "stdin",
     "output_type": "stream",
     "text": [
      "Enter Number 1 :  3\n",
      "Enter Number 2 :  4\n",
      "Enter Number 3 :  5\n"
     ]
    },
    {
     "name": "stdout",
     "output_type": "stream",
     "text": [
      "Second Largest Number is :  4\n"
     ]
    }
   ],
   "source": [
    "p = int(input(\"Enter Number 1 : \"))\n",
    "q = int(input(\"Enter Number 2 : \"))\n",
    "r = int(input(\"Enter Number 3 : \"))\n",
    "\n",
    "if p>q :\n",
    "    if p>r:\n",
    "        if q>r:\n",
    "            print(\"Second Largest Number is : \",q)\n",
    "        else :\n",
    "            print(\"Second Largest Number is : \",r)\n",
    "    else:\n",
    "        print(\"Second Largest Number is : \",p)\n",
    "else:\n",
    "    if q>r:\n",
    "        if p>r:\n",
    "            print(\"Second Largest Number is : \",p)\n",
    "        else:\n",
    "            print(\"Second Largest Number is : \",r)\n",
    "    else:\n",
    "        print(\"Second Largest Number is : \",q)\n"
   ]
  },
  {
   "cell_type": "markdown",
   "metadata": {},
   "source": [
    "### 11) WAP to calculate electricity bill based on following criteria. Which takes the unit from the user.\n",
    "a. First 1 to 50 units – Rs. 2.60/unit</br>\n",
    "b. Next 50 to 100 units – Rs. 3.25/unit</br>\n",
    "c. Next 100 to 200 units – Rs. 5.26/unit</br>\n",
    "d. above 200 units – Rs. 8.45/unit"
   ]
  },
  {
   "cell_type": "code",
   "execution_count": 31,
   "metadata": {},
   "outputs": [
    {
     "name": "stdin",
     "output_type": "stream",
     "text": [
      "Enter units consumed:  50\n"
     ]
    },
    {
     "name": "stdout",
     "output_type": "stream",
     "text": [
      "Your electricity bill is: ₹130.00\n"
     ]
    }
   ],
   "source": [
    "\n",
    "unit = float(input(\"Enter units consumed: \"))\n",
    "bill = 0\n",
    "\n",
    "if unit <= 0:\n",
    "    print(\"Invalid input. Units must be greater than 0.\")\n",
    "else:\n",
    "    if unit <= 50:\n",
    "        bill = unit * 2.60\n",
    "    elif unit <= 100:\n",
    "        bill = (50 * 2.60) + ((unit - 50) * 3.25)\n",
    "    elif unit <= 200:\n",
    "        bill = (50 * 2.60) + (50 * 3.25) + ((unit - 100) * 5.26)\n",
    "    else:\n",
    "        bill = (50 * 2.60) + (50 * 3.25) + (100 * 5.26) + ((unit - 200) * 8.45)\n",
    "\n",
    "    print(f\"Your electricity bill is: ₹{bill:.2f}\")\n"
   ]
  },
  {
   "cell_type": "code",
   "execution_count": null,
   "metadata": {},
   "outputs": [],
   "source": []
  }
 ],
 "metadata": {
  "kernelspec": {
   "display_name": "Python 3 (ipykernel)",
   "language": "python",
   "name": "python3"
  },
  "language_info": {
   "codemirror_mode": {
    "name": "ipython",
    "version": 3
   },
   "file_extension": ".py",
   "mimetype": "text/x-python",
   "name": "python",
   "nbconvert_exporter": "python",
   "pygments_lexer": "ipython3",
   "version": "3.12.7"
  }
 },
 "nbformat": 4,
 "nbformat_minor": 4
}
