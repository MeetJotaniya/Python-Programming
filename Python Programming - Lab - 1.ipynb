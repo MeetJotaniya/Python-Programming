{
 "cells": [
  {
   "cell_type": "markdown",
   "metadata": {},
   "source": [
    "<a href='https://www.darshan.ac.in/'> <img src='https://www.darshan.ac.in/Content/media/DU_Logo.svg' width=\"250\" height=\"10\"/></a>\n",
    "<pre>\n",
    "<center><b><h1>Python Programming - 2301CS404</b></center>\n",
    "<center><b><h1>Lab - 1</b></center>    \n",
    "<pre>"
   ]
  },
  {
   "cell_type": "markdown",
   "metadata": {},
   "source": [
    "### 01) WAP to print “Hello World”"
   ]
  },
  {
   "cell_type": "code",
   "execution_count": 1,
   "metadata": {},
   "outputs": [
    {
     "name": "stdout",
     "output_type": "stream",
     "text": [
      "Hello world\n"
     ]
    }
   ],
   "source": [
    "print(\"Hello world\")"
   ]
  },
  {
   "cell_type": "markdown",
   "metadata": {},
   "source": [
    "### 02) WAP to print addition of two numbers with and without using input()."
   ]
  },
  {
   "cell_type": "code",
   "execution_count": 7,
   "metadata": {},
   "outputs": [
    {
     "name": "stdout",
     "output_type": "stream",
     "text": [
      "Sum =  30\n"
     ]
    }
   ],
   "source": [
    "a = 10\n",
    "b = 20\n",
    "print(\"Sum = \", a + b)"
   ]
  },
  {
   "cell_type": "code",
   "execution_count": 5,
   "metadata": {},
   "outputs": [
    {
     "name": "stdin",
     "output_type": "stream",
     "text": [
      "Enter number one =  5\n",
      "Enter number two =  3\n"
     ]
    },
    {
     "name": "stdout",
     "output_type": "stream",
     "text": [
      "Sum =  8\n"
     ]
    }
   ],
   "source": [
    "k = int(input(\"Enter number one = \"))\n",
    "e = int(input(\"Enter number two = \"))\n",
    "print(\"Sum = \" , k + e)"
   ]
  },
  {
   "cell_type": "markdown",
   "metadata": {},
   "source": [
    "### 03) WAP to check the type of the variable."
   ]
  },
  {
   "cell_type": "code",
   "execution_count": 4,
   "metadata": {},
   "outputs": [
    {
     "name": "stdout",
     "output_type": "stream",
     "text": [
      "<class 'str'>\n"
     ]
    }
   ],
   "source": [
    "temp = \"Hello bhai\"\n",
    "print(type(temp))"
   ]
  },
  {
   "cell_type": "markdown",
   "metadata": {},
   "source": [
    "### 04) WAP to calculate simple interest."
   ]
  },
  {
   "cell_type": "code",
   "execution_count": 9,
   "metadata": {},
   "outputs": [
    {
     "name": "stdin",
     "output_type": "stream",
     "text": [
      "Enter principleAmount =  5000\n",
      "Enter rate =  2\n",
      "Enter time =  1\n"
     ]
    },
    {
     "name": "stdout",
     "output_type": "stream",
     "text": [
      "The interest is =  100.0\n"
     ]
    }
   ],
   "source": [
    "principleAmount = int(input(\"Enter principleAmount = \"))\n",
    "rate = int(input(\"Enter rate = \"))\n",
    "time = int(input(\"Enter time = \"))\n",
    "\n",
    "simpleInterest = (principleAmount * rate * time)/100\n",
    "print('The interest is = ' , simpleInterest)"
   ]
  },
  {
   "cell_type": "markdown",
   "metadata": {},
   "source": [
    "### 05) WAP to calculate area and perimeter of a circle."
   ]
  },
  {
   "cell_type": "code",
   "execution_count": 10,
   "metadata": {},
   "outputs": [
    {
     "name": "stdin",
     "output_type": "stream",
     "text": [
      "Enter radius =  3\n"
     ]
    },
    {
     "name": "stdout",
     "output_type": "stream",
     "text": [
      "The area of the square is =  28.259999999999998\n",
      "The perimeter of the square is =  18.84\n"
     ]
    }
   ],
   "source": [
    "radius = int(input(\"Enter radius = \"))\n",
    "\n",
    "area = 3.14 * radius * radius\n",
    "perimeter = 2 * 3.14 * radius\n",
    "\n",
    "print('The area of the square is = ' , area)\n",
    "print('The perimeter of the square is = ' , perimeter)"
   ]
  },
  {
   "cell_type": "markdown",
   "metadata": {},
   "source": [
    "### 06) WAP to calculate area of a triangle."
   ]
  },
  {
   "cell_type": "code",
   "execution_count": 11,
   "metadata": {},
   "outputs": [
    {
     "name": "stdin",
     "output_type": "stream",
     "text": [
      "Enter height =  4\n",
      "Enter base =  5\n"
     ]
    },
    {
     "name": "stdout",
     "output_type": "stream",
     "text": [
      "The area of triangle is =  10.0\n"
     ]
    }
   ],
   "source": [
    "height = int(input(\"Enter height = \"))\n",
    "base = int(input(\"Enter base = \"))\n",
    "\n",
    "areaOfTriangle = 1/2 * ( height * base)\n",
    "\n",
    "print('The area of triangle is = ' , areaOfTriangle)"
   ]
  },
  {
   "cell_type": "markdown",
   "metadata": {},
   "source": [
    "### 07) WAP to compute quotient and remainder."
   ]
  },
  {
   "cell_type": "code",
   "execution_count": 13,
   "metadata": {},
   "outputs": [
    {
     "name": "stdin",
     "output_type": "stream",
     "text": [
      "Enter number =  5\n",
      "Enter divider =  2\n"
     ]
    },
    {
     "name": "stdout",
     "output_type": "stream",
     "text": [
      "The quotient is =  2\n",
      "The remainder is =  1\n"
     ]
    }
   ],
   "source": [
    "number = int(input(\"Enter number = \"))\n",
    "divider = int(input(\"Enter divider = \"))\n",
    "\n",
    "quotient = int(number / divider)\n",
    "remainder = number % divider\n",
    "\n",
    "print('The quotient is = ' , quotient)\n",
    "print('The remainder is = ' , remainder)"
   ]
  },
  {
   "cell_type": "markdown",
   "metadata": {},
   "source": [
    "### 08) WAP to convert degree into Fahrenheit and vice versa."
   ]
  },
  {
   "cell_type": "code",
   "execution_count": 15,
   "metadata": {},
   "outputs": [
    {
     "name": "stdin",
     "output_type": "stream",
     "text": [
      "Enter celcius =  34.7\n"
     ]
    },
    {
     "name": "stdout",
     "output_type": "stream",
     "text": [
      "fahrenhit is =  94.46000000000001\n"
     ]
    }
   ],
   "source": [
    "celcius = float(input(\"Enter celcius = \"))\n",
    "\n",
    "fahrenhit = (9 / 5 * celcius) + 32;\n",
    "\n",
    "print('fahrenhit is = ' , fahrenhit)\n"
   ]
  },
  {
   "cell_type": "code",
   "execution_count": 17,
   "metadata": {},
   "outputs": [
    {
     "name": "stdin",
     "output_type": "stream",
     "text": [
      "Enter fahrenhit =  94.46\n"
     ]
    },
    {
     "name": "stdout",
     "output_type": "stream",
     "text": [
      "celcius is =  34.699999999999996\n"
     ]
    }
   ],
   "source": [
    "fah = float(input(\"Enter fahrenhit = \"))\n",
    "\n",
    "cel = (fah - 32) * (5 / 9)\n",
    "\n",
    "print('celcius is = ' , cel)"
   ]
  },
  {
   "cell_type": "markdown",
   "metadata": {},
   "source": [
    "### 09) WAP to find the distance between two points in 2-D space."
   ]
  },
  {
   "cell_type": "code",
   "execution_count": 20,
   "metadata": {},
   "outputs": [
    {
     "name": "stdin",
     "output_type": "stream",
     "text": [
      "Enter first x coordinate =  3\n",
      "Enter second x coordinate =  7\n",
      "Enter first y coordinate =  3\n",
      "Enter second y coordinate =  4\n"
     ]
    },
    {
     "name": "stdout",
     "output_type": "stream",
     "text": [
      "The distance is =  4.123105625617661\n"
     ]
    }
   ],
   "source": [
    "x1 = int(input(\"Enter first x coordinate = \"))\n",
    "x2 = int(input(\"Enter second x coordinate = \"))\n",
    "y1 = int(input(\"Enter first y coordinate = \"))\n",
    "y2 = int(input(\"Enter second y coordinate = \"))\n",
    "\n",
    "distance = ((x2 - x1)**2 + (y2 - y1)**2)**0.5\n",
    "print(\"The distance is = \" , distance)"
   ]
  },
  {
   "cell_type": "markdown",
   "metadata": {},
   "source": [
    "### 10) WAP to print sum of n natural numbers."
   ]
  },
  {
   "cell_type": "code",
   "execution_count": 22,
   "metadata": {},
   "outputs": [
    {
     "name": "stdin",
     "output_type": "stream",
     "text": [
      "Enter number =  3\n"
     ]
    },
    {
     "name": "stdout",
     "output_type": "stream",
     "text": [
      "The answer is =  6.0\n"
     ]
    }
   ],
   "source": [
    "numberForSum = int(input(\"Enter number = \"))\n",
    "\n",
    "finalAns = (numberForSum + 1) * (numberForSum / 2)\n",
    "\n",
    "print('The answer is = ' , finalAns)"
   ]
  },
  {
   "cell_type": "markdown",
   "metadata": {},
   "source": [
    "### 11) WAP to print sum of square of n natural numbers."
   ]
  },
  {
   "cell_type": "code",
   "execution_count": 24,
   "metadata": {},
   "outputs": [
    {
     "name": "stdin",
     "output_type": "stream",
     "text": [
      "Enter number =  5\n"
     ]
    },
    {
     "name": "stdout",
     "output_type": "stream",
     "text": [
      "The answer is =  55.0\n"
     ]
    }
   ],
   "source": [
    "n = int(input(\"Enter number = \"))\n",
    "\n",
    "jawab = (n * (n + 1) * (2 * n + 1))/6\n",
    "\n",
    "\n",
    "print('The answer is = ' , jawab)\n"
   ]
  },
  {
   "cell_type": "markdown",
   "metadata": {},
   "source": [
    "### 12) WAP to concate the first and last name of the student."
   ]
  },
  {
   "cell_type": "code",
   "execution_count": 1,
   "metadata": {},
   "outputs": [
    {
     "name": "stdin",
     "output_type": "stream",
     "text": [
      "Enter the first name of the student:  Meet\n",
      "Enter the last name of the student:  Jotaniya\n"
     ]
    },
    {
     "name": "stdout",
     "output_type": "stream",
     "text": [
      "The full name of student is :  Meet Jotaniya\n"
     ]
    }
   ],
   "source": [
    "first_name = input(\"Enter the first name of the student: \")\n",
    "last_name = input(\"Enter the last name of the student: \")\n",
    "\n",
    "full_name = first_name + \" \" + last_name\n",
    "\n",
    "print(\"The full name of student is : \",full_name)"
   ]
  },
  {
   "cell_type": "markdown",
   "metadata": {},
   "source": [
    "### 13) WAP to swap two numbers."
   ]
  },
  {
   "cell_type": "code",
   "execution_count": 3,
   "metadata": {},
   "outputs": [
    {
     "name": "stdin",
     "output_type": "stream",
     "text": [
      "Enter number one =  5\n",
      "Enter number two =  7\n"
     ]
    },
    {
     "name": "stdout",
     "output_type": "stream",
     "text": [
      "Befor Swapping : num1 =  5  , num 2 =  7\n",
      "After Swapping : num1 =  7  , num 2 =  7\n"
     ]
    }
   ],
   "source": [
    "num1 = int(input(\"Enter number one = \"))\n",
    "num2 = int(input(\"Enter number two = \"))\n",
    "print(\"Befor Swapping : num1 = \" ,num1,\" , num 2 = \",num2)\n",
    "\n",
    "num1 = num2\n",
    "no = num1\n",
    "num2 = no\n",
    "\n",
    "print(\"After Swapping : num1 = \" ,num1,\" , num 2 = \",num2)\n"
   ]
  },
  {
   "cell_type": "markdown",
   "metadata": {},
   "source": [
    "### 14) WAP to get the distance from user into kilometer, and convert it into meter, feet, inches and centimeter."
   ]
  },
  {
   "cell_type": "code",
   "execution_count": 4,
   "metadata": {},
   "outputs": [
    {
     "name": "stdin",
     "output_type": "stream",
     "text": [
      "Enter Distance in km :  15\n"
     ]
    },
    {
     "name": "stdout",
     "output_type": "stream",
     "text": [
      "Distance in kilometer to meter :  15000.0\n",
      "Distance in kilometer to feet :  49212.598425196855\n",
      "Distance in kilometer to inches :  590551.1811023622\n",
      "Distance in kilometer to centimeter :  1500000.0\n"
     ]
    }
   ],
   "source": [
    "distance_km = float(input(\"Enter Distance in km : \"))\n",
    "\n",
    "distance_m = distance_km * 1000\n",
    "distance_feet = distance_km / 0.0003048\n",
    "distance_inches = distance_km / 0.0000254\n",
    "distance_cm = distance_km * 100000\n",
    "\n",
    "print(\"Distance in kilometer to meter : \",distance_m)\n",
    "print(\"Distance in kilometer to feet : \",distance_feet)\n",
    "print(\"Distance in kilometer to inches : \",distance_inches)\n",
    "print(\"Distance in kilometer to centimeter : \",distance_cm)"
   ]
  },
  {
   "cell_type": "markdown",
   "metadata": {},
   "source": [
    "### 15) WAP to get day, month and year from the user and print the date in the given format: 23-11-2024."
   ]
  },
  {
   "cell_type": "code",
   "execution_count": 6,
   "metadata": {},
   "outputs": [
    {
     "name": "stdin",
     "output_type": "stream",
     "text": [
      "Enter Day (1-31) :  7\n",
      "Enter Month (1-12) :  7\n",
      "Enter Year :  1981\n"
     ]
    },
    {
     "name": "stdout",
     "output_type": "stream",
     "text": [
      "Date :  7-7-1981\n"
     ]
    }
   ],
   "source": [
    "Day = int(input(\"Enter Day (1-31) : \"))\n",
    "Month = int(input(\"Enter Month (1-12) : \"))\n",
    "Year = int(input(\"Enter Year : \"))\n",
    "\n",
    "Date = str(Day) + \"-\" + str(Month) + \"-\" + str(Year)\n",
    "\n",
    "print(\"Date : \",Date)\n",
    "\n",
    "\n"
   ]
  }
 ],
 "metadata": {
  "kernelspec": {
   "display_name": "Python 3 (ipykernel)",
   "language": "python",
   "name": "python3"
  },
  "language_info": {
   "codemirror_mode": {
    "name": "ipython",
    "version": 3
   },
   "file_extension": ".py",
   "mimetype": "text/x-python",
   "name": "python",
   "nbconvert_exporter": "python",
   "pygments_lexer": "ipython3",
   "version": "3.12.7"
  },
  "vscode": {
   "interpreter": {
    "hash": "31f2aee4e71d21fbe5cf8b01ff0e069b9275f58929596ceb00d14d90e3e16cd6"
   }
  }
 },
 "nbformat": 4,
 "nbformat_minor": 4
}
